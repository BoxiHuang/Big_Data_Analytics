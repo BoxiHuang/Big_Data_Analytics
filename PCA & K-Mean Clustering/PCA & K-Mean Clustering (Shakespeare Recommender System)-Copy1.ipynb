{
 "cells": [
  {
   "cell_type": "code",
   "execution_count": 2,
   "metadata": {
    "colab": {
     "base_uri": "https://localhost:8080/"
    },
    "id": "8NFmfL6uv56m",
    "outputId": "f50bce2e-02c7-412c-fa3b-90974a4453bf"
   },
   "outputs": [
    {
     "name": "stdout",
     "output_type": "stream",
     "text": [
      "Collecting pyspark\n",
      "  Downloading https://files.pythonhosted.org/packages/f0/26/198fc8c0b98580f617cb03cb298c6056587b8f0447e20fa40c5b634ced77/pyspark-3.0.1.tar.gz (204.2MB)\n",
      "Collecting py4j==0.10.9\n",
      "  Downloading https://files.pythonhosted.org/packages/9e/b6/6a4fb90cd235dc8e265a6a2067f2a2c99f0d91787f06aca4bcf7c23f3f80/py4j-0.10.9-py2.py3-none-any.whl (198kB)\n",
      "Building wheels for collected packages: pyspark\n",
      "  Building wheel for pyspark (setup.py): started\n",
      "  Building wheel for pyspark (setup.py): finished with status 'done'\n",
      "  Created wheel for pyspark: filename=pyspark-3.0.1-py2.py3-none-any.whl size=204612243 sha256=ebb7c6ac234fb3f5894ad2ef14d9ee1874a71b1f0f07562a667223d403510969\n",
      "  Stored in directory: /root/.cache/pip/wheels/5e/bd/07/031766ca628adec8435bb40f0bd83bb676ce65ff4007f8e73f\n",
      "Successfully built pyspark\n",
      "Installing collected packages: py4j, pyspark\n",
      "Successfully installed py4j-0.10.9 pyspark-3.0.1\n"
     ]
    },
    {
     "name": "stderr",
     "output_type": "stream",
     "text": [
      "--2020-11-10 04:38:26--  https://raw.githubusercontent.com/wewilli1/ist718_data/master/quotes_by_char.csv\n",
      "Resolving raw.githubusercontent.com (raw.githubusercontent.com)... 151.101.0.133, 151.101.64.133, 151.101.128.133, ...\n",
      "Connecting to raw.githubusercontent.com (raw.githubusercontent.com)|151.101.0.133|:443... connected.\n",
      "HTTP request sent, awaiting response... 200 OK\n",
      "Length: 4352265 (4.2M) [text/plain]\n",
      "Saving to: ‘quotes_by_char.csv’\n",
      "\n",
      "     0K .......... .......... .......... .......... ..........  1% 1.90M 2s\n",
      "    50K .......... .......... .......... .......... ..........  2% 3.80M 2s\n",
      "   100K .......... .......... .......... .......... ..........  3% 10.9M 1s\n",
      "   150K .......... .......... .......... .......... ..........  4% 14.0M 1s\n",
      "   200K .......... .......... .......... .......... ..........  5% 7.52M 1s\n",
      "   250K .......... .......... .......... .......... ..........  7% 22.8M 1s\n",
      "   300K .......... .......... .......... .......... ..........  8% 28.8M 1s\n",
      "   350K .......... .......... .......... .......... ..........  9% 21.2M 1s\n",
      "   400K .......... .......... .......... .......... .......... 10% 6.88M 1s\n",
      "   450K .......... .......... .......... .......... .......... 11% 15.5M 1s\n",
      "   500K .......... .......... .......... .......... .......... 12% 20.3M 0s\n",
      "   550K .......... .......... .......... .......... .......... 14% 15.9M 0s\n",
      "   600K .......... .......... .......... .......... .......... 15% 14.1M 0s\n",
      "   650K .......... .......... .......... .......... .......... 16% 19.7M 0s\n",
      "   700K .......... .......... .......... .......... .......... 17% 19.6M 0s\n",
      "   750K .......... .......... .......... .......... .......... 18% 13.9M 0s\n",
      "   800K .......... .......... .......... .......... .......... 19% 12.6M 0s\n",
      "   850K .......... .......... .......... .......... .......... 21% 18.7M 0s\n",
      "   900K .......... .......... .......... .......... .......... 22% 22.1M 0s\n",
      "   950K .......... .......... .......... .......... .......... 23% 11.3M 0s\n",
      "  1000K .......... .......... .......... .......... .......... 24% 37.1M 0s\n",
      "  1050K .......... .......... .......... .......... .......... 25% 15.9M 0s\n",
      "  1100K .......... .......... .......... .......... .......... 27% 20.0M 0s\n",
      "  1150K .......... .......... .......... .......... .......... 28% 17.2M 0s\n",
      "  1200K .......... .......... .......... .......... .......... 29% 11.7M 0s\n",
      "  1250K .......... .......... .......... .......... .......... 30% 33.2M 0s\n",
      "  1300K .......... .......... .......... .......... .......... 31% 21.0M 0s\n",
      "  1350K .......... .......... .......... .......... .......... 32% 16.7M 0s\n",
      "  1400K .......... .......... .......... .......... .......... 34% 37.6M 0s\n",
      "  1450K .......... .......... .......... .......... .......... 35% 11.2M 0s\n",
      "  1500K .......... .......... .......... .......... .......... 36% 29.5M 0s\n",
      "  1550K .......... .......... .......... .......... .......... 37% 22.1M 0s\n",
      "  1600K .......... .......... .......... .......... .......... 38% 15.7M 0s\n",
      "  1650K .......... .......... .......... .......... .......... 39% 25.3M 0s\n",
      "  1700K .......... .......... .......... .......... .......... 41% 12.2M 0s\n",
      "  1750K .......... .......... .......... .......... .......... 42% 59.9M 0s\n",
      "  1800K .......... .......... .......... .......... .......... 43% 12.6M 0s\n",
      "  1850K .......... .......... .......... .......... .......... 44% 16.6M 0s\n",
      "  1900K .......... .......... .......... .......... .......... 45% 55.1M 0s\n",
      "  1950K .......... .......... .......... .......... .......... 47% 22.1M 0s\n",
      "  2000K .......... .......... .......... .......... .......... 48% 18.6M 0s\n",
      "  2050K .......... .......... .......... .......... .......... 49% 29.3M 0s\n",
      "  2100K .......... .......... .......... .......... .......... 50% 15.8M 0s\n",
      "  2150K .......... .......... .......... .......... .......... 51% 18.5M 0s\n",
      "  2200K .......... .......... .......... .......... .......... 52% 21.4M 0s\n",
      "  2250K .......... .......... .......... .......... .......... 54% 16.4M 0s\n",
      "  2300K .......... .......... .......... .......... .......... 55% 26.0M 0s\n",
      "  2350K .......... .......... .......... .......... .......... 56% 68.8M 0s\n",
      "  2400K .......... .......... .......... .......... .......... 57% 15.9M 0s\n",
      "  2450K .......... .......... .......... .......... .......... 58% 21.8M 0s\n",
      "  2500K .......... .......... .......... .......... .......... 59% 45.7M 0s\n",
      "  2550K .......... .......... .......... .......... .......... 61% 12.1M 0s\n",
      "  2600K .......... .......... .......... .......... .......... 62% 32.8M 0s\n",
      "  2650K .......... .......... .......... .......... .......... 63% 40.3M 0s\n",
      "  2700K .......... .......... .......... .......... .......... 64% 20.0M 0s\n",
      "  2750K .......... .......... .......... .......... .......... 65% 37.7M 0s\n",
      "  2800K .......... .......... .......... .......... .......... 67% 21.2M 0s\n",
      "  2850K .......... .......... .......... .......... .......... 68% 50.6M 0s\n",
      "  2900K .......... .......... .......... .......... .......... 69% 13.9M 0s\n",
      "  2950K .......... .......... .......... .......... .......... 70% 16.9M 0s\n",
      "  3000K .......... .......... .......... .......... .......... 71% 32.5M 0s\n",
      "  3050K .......... .......... .......... .......... .......... 72% 61.2M 0s\n",
      "  3100K .......... .......... .......... .......... .......... 74% 33.6M 0s\n",
      "  3150K .......... .......... .......... .......... .......... 75% 18.8M 0s\n",
      "  3200K .......... .......... .......... .......... .......... 76% 12.1M 0s\n",
      "  3250K .......... .......... .......... .......... .......... 77% 40.1M 0s\n",
      "  3300K .......... .......... .......... .......... .......... 78% 30.6M 0s\n",
      "  3350K .......... .......... .......... .......... .......... 79% 42.4M 0s\n",
      "  3400K .......... .......... .......... .......... .......... 81% 23.2M 0s\n",
      "  3450K .......... .......... .......... .......... .......... 82% 47.1M 0s\n",
      "  3500K .......... .......... .......... .......... .......... 83% 29.4M 0s\n",
      "  3550K .......... .......... .......... .......... .......... 84% 10.4M 0s\n",
      "  3600K .......... .......... .......... .......... .......... 85% 48.7M 0s\n",
      "  3650K .......... .......... .......... .......... .......... 87% 53.9M 0s\n",
      "  3700K .......... .......... .......... .......... .......... 88% 33.6M 0s\n",
      "  3750K .......... .......... .......... .......... .......... 89% 22.5M 0s\n",
      "  3800K .......... .......... .......... .......... .......... 90% 63.3M 0s\n",
      "  3850K .......... .......... .......... .......... .......... 91% 21.1M 0s\n",
      "  3900K .......... .......... .......... .......... .......... 92% 53.5M 0s\n",
      "  3950K .......... .......... .......... .......... .......... 94% 12.6M 0s\n",
      "  4000K .......... .......... .......... .......... .......... 95% 54.4M 0s\n",
      "  4050K .......... .......... .......... .......... .......... 96% 29.2M 0s\n",
      "  4100K .......... .......... .......... .......... .......... 97% 49.9M 0s\n",
      "  4150K .......... .......... .......... .......... .......... 98% 23.7M 0s\n",
      "  4200K .......... .......... .......... .......... .......... 99% 33.2M 0s\n",
      "  4250K                                                       100%  494G=0.2s\n",
      "\n",
      "2020-11-10 04:38:26 (17.4 MB/s) - ‘quotes_by_char.csv’ saved [4352265/4352265]\n",
      "\n"
     ]
    }
   ],
   "source": [
    "%%bash\n",
    "# Do not change or modify this file\n",
    "# Need to install pyspark\n",
    "# if pyspark is already installed, will print a message indicating pyspark already isntalled\n",
    "pip install pyspark\n",
    "\n",
    "# Download the data files from github\n",
    "# If the data file does not exist in the colab environment\n",
    "if [[ ! -f ./quotes_by_char.csv ]]; then \n",
    "   # download the data file from github and save it in this colab environment instance\n",
    "   wget https://raw.githubusercontent.com/wewilli1/ist718_data/master/quotes_by_char.csv  \n",
    "fi"
   ]
  },
  {
   "cell_type": "markdown",
   "metadata": {
    "id": "tXOWyany9H39"
   },
   "source": [
    "William Shakespeare is considered one of the greatest playwrights in the English language. He is attributed with 38 plays, 154 sonnets, and other works. Even 400 years later, his writings are still be studied in most high schools and colleges in the US and elsewhere. Shakespeare’s complete works are available online at http://shakespeare.mit.edu/.  We will be using a data set which has Shakespeare character quotes.  A lot of people are fascinated by the characters in the Shakespeare plays.  The first first part of the assignment is to create a Shakespeare character recommender system which is capable of recommending new characters which are similar to a speicific character of interest.  We will also explore using PCA inference to find important words in character quotes.  In the second part of the assignment we will use K-Means clustering to try and find one or more character insights. "
   ]
  },
  {
   "cell_type": "markdown",
   "metadata": {
    "id": "MfpcQSe4KxiR"
   },
   "source": [
    "# Part 1: Shakespeare Recommender System"
   ]
  },
  {
   "cell_type": "markdown",
   "metadata": {
    "id": "vtMyxEOqPY6d"
   },
   "source": [
    "# Question 1 (10 pts)\n",
    "Read the quotes_by_char.csv file into a spark dataframe named `quotes_by_char_df`.  Drop the `Unnamed` column.  Transform the character column such that all character names are lower case."
   ]
  },
  {
   "cell_type": "code",
   "execution_count": 3,
   "metadata": {
    "id": "LFOwyOJznl1H"
   },
   "outputs": [],
   "source": [
    "# Course Instructor's code from previous assignment\n",
    "# grading import statements\n",
    "%matplotlib inline\n",
    "from pyspark.sql import SparkSession\n",
    "from pyspark.sql import SQLContext\n",
    "\n",
    "MAX_MEMORY = \"12g\"\n",
    "\n",
    "spark = SparkSession \\\n",
    "  .builder \\\n",
    "  .master(\"local[*]\")\\\n",
    "  .config(\"spark.memory.fraction\", 0.8) \\\n",
    "  .config(\"spark.executor.memory\", MAX_MEMORY) \\\n",
    "  .config(\"spark.driver.memory\", MAX_MEMORY)\\\n",
    "  .config(\"spark.memory.offHeap.enabled\",'true')\\\n",
    "  .config(\"spark.memory.offHeap.size\",MAX_MEMORY)\\\n",
    "  .getOrCreate()\n",
    "\n",
    "sc = spark.sparkContext\n",
    "sc = spark.sparkContext\n",
    "sqlContext = SQLContext(sc)\n",
    "import os\n",
    "\n",
    "# Define a function to determine if we are running on data bricks\n",
    "# Return true if running in the data bricks environment, false otherwise\n",
    "def is_databricks():\n",
    "    # get the databricks runtime version\n",
    "    db_env = os.getenv(\"DATABRICKS_RUNTIME_VERSION\")\n",
    "    \n",
    "    # if running on data bricks\n",
    "    if db_env != None:\n",
    "        return True\n",
    "    else:\n",
    "        return False\n",
    "\n",
    "# Define a function to read the data file.  The full path data file name is constructed\n",
    "# by checking runtime environment variables to determine if the runtime environment is \n",
    "# databricks, or a student's personal computer.  The full path file name is then\n",
    "# constructed based on the runtime env.\n",
    "# \n",
    "# Params\n",
    "#   data_file_name: The base name of the data file to load\n",
    "# \n",
    "# Returns the full path file name based on the runtime env\n",
    "#\n",
    "# Correct Usage Example (pass ONLY the full file name):\n",
    "#   file_name_to_load = get_training_filename(\"sms_spam.csv\") # correct - pass ONLY the full file name  \n",
    "#   \n",
    "# Incorrect Usage Example\n",
    "#   file_name_to_load = get_training_filename(\"/sms_spam.csv\") # incorrect - pass ONLY the full file name\n",
    "#   file_name_to_load = get_training_filename(\"sms_spam.csv/\") # incorrect - pass ONLY the full file name\n",
    "#   file_name_to_load = get_training_filename(\"c:/users/will/data/sms_spam.csv\") incorrect -pass ONLY the full file name\n",
    "def get_training_filename(data_file_name):    \n",
    "    # if running on data bricks\n",
    "    if is_databricks():\n",
    "        # build the full path file name assuming data brick env\n",
    "        full_path_name = \"dbfs:/FileStore/tables/%s\" % data_file_name\n",
    "    # else the data is assumed to be in the same dir as this notebook\n",
    "    else:\n",
    "        # Assume the student is running on their own computer and load the data\n",
    "        # file from the same dir as this notebook\n",
    "        full_path_name = data_file_name\n",
    "    \n",
    "    # return the full path file name to the caller\n",
    "    return full_path_name"
   ]
  },
  {
   "cell_type": "code",
   "execution_count": 4,
   "metadata": {
    "id": "wR-HcUxMPinA"
   },
   "outputs": [],
   "source": [
    "# Your code here\n",
    "import pyspark\n",
    "from pyspark.sql import SparkSession\n",
    "from pyspark.sql import SQLContext\n",
    "spark = SparkSession \\\n",
    "  .builder \\\n",
    "  .master(\"local[*]\")\\\n",
    "  .config(\"spark.memory.fraction\", 0.8) \\\n",
    "  .config(\"spark.executor.memory\", \"12g\") \\\n",
    "  .config(\"spark.driver.memory\", \"12g\")\\\n",
    "  .config(\"spark.memory.offHeap.enabled\",'true')\\\n",
    "  .config(\"spark.memory.offHeap.size\",\"12g\")\\\n",
    "  .getOrCreate()\n",
    "sc = spark.sparkContext\n",
    "sqlContext = SQLContext(sc)\n",
    "import pyspark.sql.functions as fn \n",
    "from pyspark.sql.functions import lower, col\n",
    "\n",
    "\n",
    "\n",
    "\n",
    "quotes_by_char_df = spark.read.format(\"csv\").option(\"header\", \"true\").load(get_training_filename(\"quotes_by_char.csv\"))\n",
    "quotes_by_char_df = quotes_by_char_df.drop('_c0')\n",
    "quotes_by_char_df = quotes_by_char_df.select(lower(col('character')).alias('character'), 'all_quotes')"
   ]
  },
  {
   "cell_type": "code",
   "execution_count": 5,
   "metadata": {
    "colab": {
     "base_uri": "https://localhost:8080/",
     "height": 191
    },
    "id": "F56XM6z59zxs",
    "outputId": "418186f7-1852-4968-c72e-54a68cc5096d"
   },
   "outputs": [
    {
     "data": {
      "text/html": [
       "<div>\n",
       "<style scoped>\n",
       "    .dataframe tbody tr th:only-of-type {\n",
       "        vertical-align: middle;\n",
       "    }\n",
       "\n",
       "    .dataframe tbody tr th {\n",
       "        vertical-align: top;\n",
       "    }\n",
       "\n",
       "    .dataframe thead th {\n",
       "        text-align: right;\n",
       "    }\n",
       "</style>\n",
       "<table border=\"1\" class=\"dataframe\">\n",
       "  <thead>\n",
       "    <tr style=\"text-align: right;\">\n",
       "      <th></th>\n",
       "      <th>character</th>\n",
       "      <th>all_quotes</th>\n",
       "    </tr>\n",
       "  </thead>\n",
       "  <tbody>\n",
       "    <tr>\n",
       "      <th>0</th>\n",
       "      <td>&amp; c</td>\n",
       "      <td>Well met, Master Ford.</td>\n",
       "    </tr>\n",
       "    <tr>\n",
       "      <th>1</th>\n",
       "      <td>a lord</td>\n",
       "      <td>Sir, it was I.</td>\n",
       "    </tr>\n",
       "    <tr>\n",
       "      <th>2</th>\n",
       "      <td>a patrician</td>\n",
       "      <td>This man has marr'd his fortune. You do the no...</td>\n",
       "    </tr>\n",
       "    <tr>\n",
       "      <th>3</th>\n",
       "      <td>a player</td>\n",
       "      <td>So please your lordship to accept our duty. I ...</td>\n",
       "    </tr>\n",
       "    <tr>\n",
       "      <th>4</th>\n",
       "      <td>aaron</td>\n",
       "      <td>Now climbeth Tamora Olympus' top, Safe out of ...</td>\n",
       "    </tr>\n",
       "  </tbody>\n",
       "</table>\n",
       "</div>"
      ],
      "text/plain": [
       "     character                                         all_quotes\n",
       "0          & c                            Well met, Master Ford. \n",
       "1       a lord                                    Sir, it was I. \n",
       "2  a patrician  This man has marr'd his fortune. You do the no...\n",
       "3     a player  So please your lordship to accept our duty. I ...\n",
       "4        aaron  Now climbeth Tamora Olympus' top, Safe out of ..."
      ]
     },
     "metadata": {
      "tags": []
     },
     "output_type": "display_data"
    }
   ],
   "source": [
    "# grading cell do not modify\n",
    "display(quotes_by_char_df.toPandas().head())"
   ]
  },
  {
   "cell_type": "markdown",
   "metadata": {
    "id": "htKcTxWH99Xq"
   },
   "source": [
    "##### Grading Feedback Cell Do Not Modify"
   ]
  },
  {
   "cell_type": "markdown",
   "metadata": {
    "id": "HlIwZWwePs8X"
   },
   "source": [
    "# Question 2 (10 pts)\n",
    "Create a spark pipeline named `pipe_pca_1` which performs Principal Component Analysis (PCA) on `chars_df`.  Use `pipe_pca_1` to create a new dataframe named `chars_pca_df`.  Analyze the resulting number of TF-IDF data rows and columns in your data.  Add code to the specially marked code cell below which prints the number of rows and cols in your TF-IDF data.  Using the analysis for the number of rows and cols in the data, explicitly set the K parameter in the spark PCA object equal to the maximum number of principal components.  Your overall solution should use sound data science techniques as outlined in lecture for making TF-IDF and PCA score calculations. We will be looking closely at how these calculations are made during the grading process."
   ]
  },
  {
   "cell_type": "code",
   "execution_count": 6,
   "metadata": {
    "id": "Jidd9mDtQ40M"
   },
   "outputs": [],
   "source": [
    "# your code to create chars_pca_df here\n",
    "from pyspark.ml import feature, regression, evaluation, Pipeline\n",
    "from pyspark.ml import Pipeline\n",
    "from pyspark.ml.feature import RegexTokenizer, Tokenizer, StopWordsRemover\n",
    "from pyspark.ml.feature import IDF\n",
    "from pyspark.ml.feature import Normalizer\n",
    "from pyspark.ml.feature import CountVectorizer\n",
    "from pyspark.ml.feature import StandardScaler\n",
    "from pyspark.ml.feature import PCA\n",
    "import requests\n",
    "stop_words = requests.get('http://ir.dcs.gla.ac.uk/resources/linguistic_utils/stop_words').text.split()\n",
    "\n",
    "# tokenizer object\n",
    "#tokenizer = Tokenizer(inputCol=\"all_quotes\", outputCol=\"words\")\n",
    "tokenizer = RegexTokenizer(minTokenLength=2)\\\n",
    "  .setGaps(False)\\\n",
    "  .setPattern(\"\\\\p{L}+\")\\\n",
    "  .setInputCol(\"all_quotes\")\\\n",
    "  .setOutputCol(\"words\")\n",
    "\n",
    "# stop word filter object\n",
    "sw_remover = StopWordsRemover()\\\n",
    "  .setStopWords(stop_words)\\\n",
    "  .setCaseSensitive(False)\\\n",
    "  .setInputCol(\"words\")\\\n",
    "  .setOutputCol(\"words_clean\")\n",
    "\n",
    "# tf object: compute tf score ( Parameter defined by Prof's recommendation on Piazza)\n",
    "cv = CountVectorizer(minTF=4., minDF=10.,vocabSize = 2**10, inputCol='words_clean', outputCol=\"tf\")\n",
    "\n",
    "# idf object: compute tfidf score\n",
    "idf = IDF(inputCol=\"tf\", outputCol=\"tfidf\")\n",
    "\n",
    "# Create tfidf pipeline\n",
    "tfidf_pipeline = Pipeline(stages=[tokenizer, sw_remover, cv, idf]).fit(quotes_by_char_df)\n",
    "\n",
    "#transform dataset\n",
    "char_df = tfidf_pipeline.transform(quotes_by_char_df)\n",
    "\n",
    "\n",
    "# standardize scaler object: (centering dataset)\n",
    "center = StandardScaler(withMean=True,\n",
    "                           inputCol='tfidf', outputCol='z_tfidf')\n",
    "\n",
    "# pricipal component analysis object( k=500 according to Prof's recommendation on Piazza)\n",
    "pca = PCA(k=500, inputCol='z_tfidf', outputCol='scores')\n",
    "\n",
    "# PCA pipeline \n",
    "pipe_pca_1 = Pipeline(stages=[center, pca])\n",
    "\n",
    "# Fit the pipeline to quotes_by_char_df\n",
    "model_pca = pipe_pca_1.fit(char_df)\n",
    "\n",
    "# Create new dataframe with fitted model\n",
    "chars_pca_df = model_pca.transform(char_df)"
   ]
  },
  {
   "cell_type": "code",
   "execution_count": 7,
   "metadata": {
    "colab": {
     "base_uri": "https://localhost:8080/"
    },
    "id": "RPb1vOnfs5lg",
    "outputId": "77f96c14-89f7-4258-caae-006879734fbb"
   },
   "outputs": [
    {
     "name": "stdout",
     "output_type": "stream",
     "text": [
      "Resulting vocab size:  1024\n"
     ]
    }
   ],
   "source": [
    "\n",
    "num_word = len(tfidf_pipeline.stages[2].vocabulary)\n",
    "print('Resulting vocab size: ', num_word)\n",
    "# print('\\nThe explained variance from the fitted model is: ')\n",
    "# print(sum(model_pca.stages[-1].explainedVariance))\n",
    "# print(\"\\nBelow are all the variance from each principal component: \")\n",
    "# model_pca.stages[-1].explainedVariance\n"
   ]
  },
  {
   "cell_type": "code",
   "execution_count": 8,
   "metadata": {
    "colab": {
     "base_uri": "https://localhost:8080/"
    },
    "id": "9DXERIotZz94",
    "outputId": "32b44eba-7c3a-403f-b9a7-f051423e1cd3"
   },
   "outputs": [
    {
     "name": "stdout",
     "output_type": "stream",
     "text": [
      "(966, 1024)\n"
     ]
    }
   ],
   "source": [
    "# your code here to print the number of rows and cols in the TF-IDF data in chars_pca_df here\n",
    "\n",
    "#print((chars_pca_df.count(), len(chars_pca_df.columns)))\n",
    "print((chars_pca_df.count(), len(tfidf_pipeline.stages[2].vocabulary)))"
   ]
  },
  {
   "cell_type": "code",
   "execution_count": 9,
   "metadata": {
    "colab": {
     "base_uri": "https://localhost:8080/",
     "height": 353
    },
    "id": "yr9VYXEzSabE",
    "outputId": "813a7473-5b2b-4852-b999-f4bfc12ceb82"
   },
   "outputs": [
    {
     "data": {
      "text/html": [
       "<div>\n",
       "<style scoped>\n",
       "    .dataframe tbody tr th:only-of-type {\n",
       "        vertical-align: middle;\n",
       "    }\n",
       "\n",
       "    .dataframe tbody tr th {\n",
       "        vertical-align: top;\n",
       "    }\n",
       "\n",
       "    .dataframe thead th {\n",
       "        text-align: right;\n",
       "    }\n",
       "</style>\n",
       "<table border=\"1\" class=\"dataframe\">\n",
       "  <thead>\n",
       "    <tr style=\"text-align: right;\">\n",
       "      <th></th>\n",
       "      <th>character</th>\n",
       "      <th>all_quotes</th>\n",
       "      <th>words</th>\n",
       "      <th>words_clean</th>\n",
       "      <th>tf</th>\n",
       "      <th>tfidf</th>\n",
       "      <th>z_tfidf</th>\n",
       "      <th>scores</th>\n",
       "    </tr>\n",
       "  </thead>\n",
       "  <tbody>\n",
       "    <tr>\n",
       "      <th>0</th>\n",
       "      <td>&amp; c</td>\n",
       "      <td>Well met, Master Ford.</td>\n",
       "      <td>[well, met, master, ford]</td>\n",
       "      <td>[met, master, ford]</td>\n",
       "      <td>(0.0, 0.0, 0.0, 0.0, 0.0, 0.0, 0.0, 0.0, 0.0, ...</td>\n",
       "      <td>(0.0, 0.0, 0.0, 0.0, 0.0, 0.0, 0.0, 0.0, 0.0, ...</td>\n",
       "      <td>[-0.39992382179131764, -0.41192426392574466, -...</td>\n",
       "      <td>[2.8656610772377547, -0.18215642226137432, -0....</td>\n",
       "    </tr>\n",
       "    <tr>\n",
       "      <th>1</th>\n",
       "      <td>a lord</td>\n",
       "      <td>Sir, it was I.</td>\n",
       "      <td>[sir, it, was]</td>\n",
       "      <td>[sir]</td>\n",
       "      <td>(0.0, 0.0, 0.0, 0.0, 0.0, 0.0, 0.0, 0.0, 0.0, ...</td>\n",
       "      <td>(0.0, 0.0, 0.0, 0.0, 0.0, 0.0, 0.0, 0.0, 0.0, ...</td>\n",
       "      <td>[-0.39992382179131764, -0.41192426392574466, -...</td>\n",
       "      <td>[2.8656610772377547, -0.18215642226137432, -0....</td>\n",
       "    </tr>\n",
       "    <tr>\n",
       "      <th>2</th>\n",
       "      <td>a patrician</td>\n",
       "      <td>This man has marr'd his fortune. You do the no...</td>\n",
       "      <td>[this, man, has, marr, his, fortune, you, do, ...</td>\n",
       "      <td>[man, marr, fortune, nobler, ay, burn]</td>\n",
       "      <td>(0.0, 0.0, 0.0, 0.0, 0.0, 0.0, 0.0, 0.0, 0.0, ...</td>\n",
       "      <td>(0.0, 0.0, 0.0, 0.0, 0.0, 0.0, 0.0, 0.0, 0.0, ...</td>\n",
       "      <td>[-0.39992382179131764, -0.41192426392574466, -...</td>\n",
       "      <td>[2.8656610772377547, -0.18215642226137432, -0....</td>\n",
       "    </tr>\n",
       "    <tr>\n",
       "      <th>3</th>\n",
       "      <td>a player</td>\n",
       "      <td>So please your lordship to accept our duty. I ...</td>\n",
       "      <td>[so, please, your, lordship, to, accept, our, ...</td>\n",
       "      <td>[lordship, accept, duty, think, twas, soto, ho...</td>\n",
       "      <td>(0.0, 0.0, 0.0, 0.0, 0.0, 0.0, 0.0, 0.0, 0.0, ...</td>\n",
       "      <td>(0.0, 0.0, 0.0, 0.0, 0.0, 0.0, 0.0, 0.0, 0.0, ...</td>\n",
       "      <td>[-0.39992382179131764, -0.41192426392574466, -...</td>\n",
       "      <td>[2.8656610772377547, -0.18215642226137432, -0....</td>\n",
       "    </tr>\n",
       "    <tr>\n",
       "      <th>4</th>\n",
       "      <td>aaron</td>\n",
       "      <td>Now climbeth Tamora Olympus' top, Safe out of ...</td>\n",
       "      <td>[now, climbeth, tamora, olympus, top, safe, ou...</td>\n",
       "      <td>[climbeth, tamora, olympus, safe, fortune, sho...</td>\n",
       "      <td>(16.0, 18.0, 13.0, 12.0, 5.0, 4.0, 0.0, 8.0, 8...</td>\n",
       "      <td>(19.21400365250883, 25.00922811532751, 16.3465...</td>\n",
       "      <td>[0.8190118101563466, 1.6744547343675409, 1.362...</td>\n",
       "      <td>[-3.9630265183294173, 0.7529073937051831, 2.60...</td>\n",
       "    </tr>\n",
       "  </tbody>\n",
       "</table>\n",
       "</div>"
      ],
      "text/plain": [
       "     character  ...                                             scores\n",
       "0          & c  ...  [2.8656610772377547, -0.18215642226137432, -0....\n",
       "1       a lord  ...  [2.8656610772377547, -0.18215642226137432, -0....\n",
       "2  a patrician  ...  [2.8656610772377547, -0.18215642226137432, -0....\n",
       "3     a player  ...  [2.8656610772377547, -0.18215642226137432, -0....\n",
       "4        aaron  ...  [-3.9630265183294173, 0.7529073937051831, 2.60...\n",
       "\n",
       "[5 rows x 8 columns]"
      ]
     },
     "metadata": {
      "tags": []
     },
     "output_type": "display_data"
    }
   ],
   "source": [
    "# grading cell - do not modify\n",
    "display(chars_pca_df.toPandas().head())"
   ]
  },
  {
   "cell_type": "markdown",
   "metadata": {
    "id": "GI4ZBvnpQ6bH"
   },
   "source": [
    "##### Grading Feedback Cell"
   ]
  },
  {
   "cell_type": "markdown",
   "metadata": {
    "id": "Dqk2_l1rU1yb"
   },
   "source": [
    "# Question 3 (10 pts):\n",
    "Analyze the PCA data in `chars_pca_df`.  Create scree and cumulative variance explained plots.  Assuming you were trying to reduce the number of columns to train a machine learning model, how many princiapal components would you pick such that the number of data columns is reduced from the original data set but you still capture a reasonable amount of variance in the data.  Describe in words the number of principal components you would choose and how you arrived at that number of components."
   ]
  },
  {
   "cell_type": "code",
   "execution_count": 10,
   "metadata": {
    "colab": {
     "base_uri": "https://localhost:8080/",
     "height": 311
    },
    "id": "NRBmwOQZVpUD",
    "outputId": "e9d304b3-9e15-4026-feaa-e6e7d4ac1982"
   },
   "outputs": [
    {
     "data": {
      "text/plain": [
       "Text(0, 0.5, 'Proportion Variance Explained')"
      ]
     },
     "execution_count": 10,
     "metadata": {
      "tags": []
     },
     "output_type": "execute_result"
    },
    {
     "data": {
      "image/png": "[encoded data removed]",
      "text/plain": [
       "<Figure size 432x288 with 1 Axes>"
      ]
     },
     "metadata": {
      "needs_background": "light",
      "tags": []
     },
     "output_type": "display_data"
    }
   ],
   "source": [
    "# your code here\n",
    "# Scree Plot\n",
    "import matplotlib.pyplot as plt\n",
    "import numpy as np\n",
    "import pandas as pd\n",
    "%matplotlib inline\n",
    "\n",
    "plt.figure()\n",
    "explained_var = model_pca.stages[-1].explainedVariance\n",
    "plt.plot(np.arange(1, len(explained_var)+1), explained_var)\n",
    "plt.title(\"Shakespeare Dataset Scree Plot\")\n",
    "plt.xlabel(\"Principal Components\")\n",
    "plt.ylabel(\"Proportion Variance Explained\")"
   ]
  },
  {
   "cell_type": "code",
   "execution_count": 11,
   "metadata": {
    "colab": {
     "base_uri": "https://localhost:8080/",
     "height": 311
    },
    "id": "Ro3X4VMQ8UB_",
    "outputId": "3b522716-80cf-4d4c-8c79-8bdcbda88cf9"
   },
   "outputs": [
    {
     "data": {
      "text/plain": [
       "Text(0, 0.5, 'Cumulative Sum of Variance Explained')"
      ]
     },
     "execution_count": 11,
     "metadata": {
      "tags": []
     },
     "output_type": "execute_result"
    },
    {
     "data": {
      "image/png": "[encoded data removed]",
      "text/plain": [
       "<Figure size 432x288 with 1 Axes>"
      ]
     },
     "metadata": {
      "needs_background": "light",
      "tags": []
     },
     "output_type": "display_data"
    }
   ],
   "source": [
    "# your code here\n",
    "# Cumulative Variance explained plot\n",
    "cum_sum = np.cumsum(explained_var)\n",
    "plt.figure()\n",
    "plt.plot(np.arange(1, len(explained_var)+1), cum_sum)\n",
    "plt.title(\"Shakespeare Dataset Cumulative Sum of Variance Explained\")\n",
    "plt.xlabel(\"Cumulative Components\")\n",
    "plt.ylabel(\"Cumulative Sum of Variance Explained\")"
   ]
  },
  {
   "cell_type": "markdown",
   "metadata": {
    "id": "b1ABRRMMVrTE"
   },
   "source": [
    "Your explanation here: \n",
    "\n",
    "how many princiapal components would you pick such that the number of data columns is reduced from the original data set but you still capture a reasonable amount of variance in the data.\n",
    "\n",
    "In order to identify a suitable number for principal component, we need to observe the scree plot and cumulative variance explained plot to locate the \"elbow\". In both IRLS textbook and course slides, we are recommended to eyeball this point in order to maximize the explained variance and minimize the number of pricipal component. Looking into these two plots, I consider a value of 300 is reasonable. This is because, in scree plot, anything more than 300 is close to 0 for explained variance (y-value) and the line mostly stays flat moving along the x-axis. With this value in mind, I then looking into the cumulative variance explained plot and found that a value of 300 captured almost 100% of explained variance and anything more than 300 remains flat as well.\n",
    "\n",
    "Thus, I think 300 is a suitable number for principal component number."
   ]
  },
  {
   "cell_type": "markdown",
   "metadata": {
    "id": "qk1kbYHz-San"
   },
   "source": [
    "# Question 4 (20 pts):\n",
    "In this question your will write code which makes recommendations on new characters to study based on a specific character that a Shakespeare fan likes.\n",
    "\n",
    "Create a function named get_nearest_chars that takes 2 arguments: char and num_nearest_chars. The char arg is a string which defines the character for which we are interested in finding similar characters. The num_nearest_chars arg is an integer that defines the total number of nearest characters which we want included in the return list. The get_nearest_chars function shall perform all of its internal operations in spark and return a python list containing a string corresponding to each of the nearest characters defined by num_nearest_chars. Compute the list of characterss which are closest to the char arg using L2 Euclidian distance. \n",
    "\n",
    "Hint: Start by creating a new pipe named pipe_pca_2 that is the same as pipe_pca_1 except set K equal to 2 when instantiating the PCA object. We are essentially fixing the number of PCA components to 2 so that we will limit the Euclidian distance to 2 dimensions for this problem. \n",
    "\n",
    "Your get_nearest_chars function should rigorously error check input data to verify that the user is not making illegal requests. We plan on trying your code against secret tests which verify your error checking to make the challenge more interesting. You are free to break the problem up into as many sub functions as you wish but you must implement get_nearest_chars as the top level entry point to your code."
   ]
  },
  {
   "cell_type": "code",
   "execution_count": 12,
   "metadata": {
    "id": "3Ql4RyYAA0PC"
   },
   "outputs": [],
   "source": [
    "from pyspark.sql import types\n",
    "from pyspark.ml.feature import Normalizer\n",
    "# tokenizer object\n",
    "#tokenizer = Tokenizer(inputCol=\"all_quotes\", outputCol=\"words\")\n",
    "tokenizer = RegexTokenizer(minTokenLength=2)\\\n",
    "  .setGaps(False)\\\n",
    "  .setPattern(\"\\\\p{L}+\")\\\n",
    "  .setInputCol(\"all_quotes\")\\\n",
    "  .setOutputCol(\"words\")\n",
    "\n",
    "# stop word filter object\n",
    "sw_remover = StopWordsRemover()\\\n",
    "  .setStopWords(stop_words)\\\n",
    "  .setCaseSensitive(False)\\\n",
    "  .setInputCol(\"words\")\\\n",
    "  .setOutputCol(\"words_clean\")\n",
    "\n",
    "# tf object: compute tf score\n",
    "#cv = CountVectorizer(minTF=4., minDF=10.,vocabSize = 2**17, inputCol='words_clean', outputCol=\"tf\")\n",
    "cv = CountVectorizer(minTF=1., minDF=5.,vocabSize = 2**10, inputCol='words_clean', outputCol=\"tf\")\n",
    "# idf object: compute tfidf score\n",
    "idf = IDF(inputCol=\"tf\", outputCol=\"tfidf\")\n",
    "\n",
    "# normalizer object\n",
    "#norm = Normalizer(inputCol='tfidf', outputCol='norm_tfidf')\n",
    "\n",
    "# standardize scaler object: (centering dataset)\n",
    "center = StandardScaler(withMean=True,\n",
    "                           inputCol='tfidf', outputCol='z_tfidf')\n",
    "\n",
    "# pricipal component analysis object (k = 2, fixing the number of PCA components to 2 so that we will limit the Euclidian distance to 2 dimensions ) \n",
    "pca = PCA(k=2, inputCol='z_tfidf', outputCol='scores')\n",
    "\n",
    "# PCA pipeline \n",
    "pipe_pca_2 = Pipeline(stages=[tokenizer, sw_remover, cv, idf, center, pca])\n",
    "\n",
    "# Fit the pipeline to quotes_by_char_df\n",
    "model_pca = pipe_pca_2.fit(quotes_by_char_df)\n",
    "\n",
    "# Find the euclidian distance with UDF\n",
    "def l2_dist(c1, c2):    \n",
    "    return float(np.sqrt((c1 - c2).T.dot((c1 - c2))))\n",
    "\n",
    "l2_dist_udf = fn.udf(l2_dist, types.FloatType())\n",
    "\n"
   ]
  },
  {
   "cell_type": "code",
   "execution_count": 13,
   "metadata": {
    "id": "zzDuHHiHPhLQ"
   },
   "outputs": [],
   "source": [
    "# your code here\n",
    "from pyspark.sql import functions as fn\n",
    "spark.sql(\"SET spark.sql.crossJoin.enabled=TRUE\")\n",
    "def get_nearest_chars(char, num_nearest_chars):\n",
    "  # Input type: char (str), num_nearest_chars (int)\n",
    "  # Expected output: List of strings of nearest characters\n",
    "  df = model_pca.transform(quotes_by_char_df).where(fn.col('character')==char).select(fn.col(\"scores\").alias('requested character scores')).join(model_pca.transform(quotes_by_char_df)).withColumn('dist', l2_dist_udf('scores', 'requested character scores')).where('dist >0').select(\"character\", \"dist\").orderBy(fn.asc(\"dist\")).limit(num_nearest_chars).select('character').rdd.map(lambda x: x[0]).collect()\n",
    "  # The first character is the input character and we need to filter out to find the closest five characters name\n",
    "  return df\n",
    "\n"
   ]
  },
  {
   "cell_type": "code",
   "execution_count": 14,
   "metadata": {
    "colab": {
     "base_uri": "https://localhost:8080/"
    },
    "id": "6Fw5i39WSna6",
    "outputId": "f343f543-ae35-461d-eaa5-3a73cb37f2ce"
   },
   "outputs": [
    {
     "name": "stdout",
     "output_type": "stream",
     "text": [
      "['helena', 'macbeth', 'pericles', 'juliet', 'coriolanus']\n",
      "['coriolanus', 'prospero', 'hotspur', 'romeo', 'leontes']\n"
     ]
    }
   ],
   "source": [
    "# grading cell - do non modify\n",
    "print(get_nearest_chars('romeo', 5))\n",
    "print(get_nearest_chars('juliet', 5))"
   ]
  },
  {
   "cell_type": "markdown",
   "metadata": {
    "id": "4ONVAI_ke_rT"
   },
   "source": [
    "# Question 5 (10 pts):\n",
    "Using PCA score data from PC1 and PC2, create a 2 dimensional character visualization plot which shows what characters are similar to the `juliet` character.  Your plot should clearly label the characters closest to juliet but not contain so many labels that it is hard or impossible to interpret.  Filter the data as needed to make a nice visualization which is easy to read and interpret.  You can use pipe_pca_2 for this question."
   ]
  },
  {
   "cell_type": "code",
   "execution_count": 16,
   "metadata": {
    "colab": {
     "base_uri": "https://localhost:8080/",
     "height": 520
    },
    "id": "nvQHIvFOFIA6",
    "outputId": "5d8e911e-6f42-409f-fb31-a2a472b31ca0"
   },
   "outputs": [
    {
     "data": {
      "image/png": "[encoded data removed]",
      "text/plain": [
       "<Figure size 576x576 with 1 Axes>"
      ]
     },
     "metadata": {
      "needs_background": "light",
      "tags": []
     },
     "output_type": "display_data"
    }
   ],
   "source": [
    "# your code here\n",
    "\n",
    "# Extract the closest 20 characters list with juliet\n",
    "chars = get_nearest_chars('juliet', 20)\n",
    "chars.append('juliet')\n",
    "juliet_df = model_pca.transform(quotes_by_char_df).where(fn.col('character').isin(chars)).select('character','scores')\n",
    "\n",
    "#extract pca score and character names\n",
    "X = np.array(juliet_df.rdd.map(lambda x: x['scores']).collect())\n",
    "char_names = juliet_df.rdd.map(lambda x: x['character']).collect()\n",
    "\n",
    "#plot the data\n",
    "fig, ax = plt.subplots()\n",
    "fig.set_figwidth(8)\n",
    "fig.set_figheight(8)\n",
    "ax.scatter(X[:,0], X[:,1])\n",
    "fig.suptitle(\"Zoomed In Character closest to Juliet PC2 Scores vs. PC1 Scores\", y=.92)\n",
    "ax.set_xlabel(\"PC1\")\n",
    "ax.set_ylabel(\"PC2\")\n",
    "\n",
    "# Annotate each data point with character names\n",
    "for i, txt in enumerate(char_names):\n",
    "      ax.annotate(txt, (X[i,0], X[i,1]))   \n",
    "\n",
    "plt.show()"
   ]
  },
  {
   "cell_type": "markdown",
   "metadata": {
    "id": "jCwbTodAmd8s"
   },
   "source": [
    "# Question 6 (10 pts)\n",
    "Perform an inference analysis on the 10 most and 10 least important words in the data set as defined by the absolute value of the PC1 loading vector coefficients.  Present the data by loading and printing 2 Pandas data frames containing the 10 most important words and 10 least important words named `most_imp_df` and `least_imp_df` respectively.  The data frames shall have 2 columns named `word` and `loading`.  Provide a written interpretation of the word importances.  You can use pipe_pca_2 for this question."
   ]
  },
  {
   "cell_type": "code",
   "execution_count": 17,
   "metadata": {
    "id": "UFmSgU_QoXin"
   },
   "outputs": [],
   "source": [
    "# your code here\n",
    "import pandas as pd\n",
    "import numpy as np\n",
    "\n",
    "pca_model = model_pca.stages[-1]\n",
    "pc1 = pca_model.pc.toArray()[:, 0].tolist()\n",
    "vocabulary = model_pca.stages[2].vocabulary\n",
    "\n",
    "pc_loadings = pd.DataFrame([vocabulary, pc1]).T.rename(columns={0: 'word', 1: 'loading'})\n",
    "\n",
    "most_imp_df = pc_loadings.sort_values(by='loading', ascending=True).\\\n",
    "    apply({'word': lambda x: x, 'loading': np.abs}, axis=0).head(10)\n",
    "\n",
    "least_imp_df = pc_loadings.sort_values(by='loading', ascending=False).\\\n",
    "    apply({'word': lambda x: x, 'loading': np.abs}, axis=0).head(10)"
   ]
  },
  {
   "cell_type": "code",
   "execution_count": 18,
   "metadata": {
    "colab": {
     "base_uri": "https://localhost:8080/",
     "height": 652
    },
    "id": "4KD45JN-oYjH",
    "outputId": "50b513ca-ce8c-4f4b-8d16-f1459b995d90"
   },
   "outputs": [
    {
     "data": {
      "text/html": [
       "<div>\n",
       "<style scoped>\n",
       "    .dataframe tbody tr th:only-of-type {\n",
       "        vertical-align: middle;\n",
       "    }\n",
       "\n",
       "    .dataframe tbody tr th {\n",
       "        vertical-align: top;\n",
       "    }\n",
       "\n",
       "    .dataframe thead th {\n",
       "        text-align: right;\n",
       "    }\n",
       "</style>\n",
       "<table border=\"1\" class=\"dataframe\">\n",
       "  <thead>\n",
       "    <tr style=\"text-align: right;\">\n",
       "      <th></th>\n",
       "      <th>word</th>\n",
       "      <th>loading</th>\n",
       "    </tr>\n",
       "  </thead>\n",
       "  <tbody>\n",
       "    <tr>\n",
       "      <th>2</th>\n",
       "      <td>shall</td>\n",
       "      <td>0.0592972</td>\n",
       "    </tr>\n",
       "    <tr>\n",
       "      <th>16</th>\n",
       "      <td>make</td>\n",
       "      <td>0.0585997</td>\n",
       "    </tr>\n",
       "    <tr>\n",
       "      <th>9</th>\n",
       "      <td>let</td>\n",
       "      <td>0.0585866</td>\n",
       "    </tr>\n",
       "    <tr>\n",
       "      <th>13</th>\n",
       "      <td>like</td>\n",
       "      <td>0.057007</td>\n",
       "    </tr>\n",
       "    <tr>\n",
       "      <th>12</th>\n",
       "      <td>hath</td>\n",
       "      <td>0.0570021</td>\n",
       "    </tr>\n",
       "    <tr>\n",
       "      <th>14</th>\n",
       "      <td>know</td>\n",
       "      <td>0.0569495</td>\n",
       "    </tr>\n",
       "    <tr>\n",
       "      <th>15</th>\n",
       "      <td>say</td>\n",
       "      <td>0.0566399</td>\n",
       "    </tr>\n",
       "    <tr>\n",
       "      <th>8</th>\n",
       "      <td>ll</td>\n",
       "      <td>0.0561316</td>\n",
       "    </tr>\n",
       "    <tr>\n",
       "      <th>7</th>\n",
       "      <td>come</td>\n",
       "      <td>0.0552637</td>\n",
       "    </tr>\n",
       "    <tr>\n",
       "      <th>3</th>\n",
       "      <td>thee</td>\n",
       "      <td>0.0548899</td>\n",
       "    </tr>\n",
       "  </tbody>\n",
       "</table>\n",
       "</div>"
      ],
      "text/plain": [
       "     word    loading\n",
       "2   shall  0.0592972\n",
       "16   make  0.0585997\n",
       "9     let  0.0585866\n",
       "13   like   0.057007\n",
       "12   hath  0.0570021\n",
       "14   know  0.0569495\n",
       "15    say  0.0566399\n",
       "8      ll  0.0561316\n",
       "7    come  0.0552637\n",
       "3    thee  0.0548899"
      ]
     },
     "metadata": {
      "tags": []
     },
     "output_type": "display_data"
    },
    {
     "data": {
      "text/html": [
       "<div>\n",
       "<style scoped>\n",
       "    .dataframe tbody tr th:only-of-type {\n",
       "        vertical-align: middle;\n",
       "    }\n",
       "\n",
       "    .dataframe tbody tr th {\n",
       "        vertical-align: top;\n",
       "    }\n",
       "\n",
       "    .dataframe thead th {\n",
       "        text-align: right;\n",
       "    }\n",
       "</style>\n",
       "<table border=\"1\" class=\"dataframe\">\n",
       "  <thead>\n",
       "    <tr style=\"text-align: right;\">\n",
       "      <th></th>\n",
       "      <th>word</th>\n",
       "      <th>loading</th>\n",
       "    </tr>\n",
       "  </thead>\n",
       "  <tbody>\n",
       "    <tr>\n",
       "      <th>500</th>\n",
       "      <td>don</td>\n",
       "      <td>0.00130088</td>\n",
       "    </tr>\n",
       "    <tr>\n",
       "      <th>332</th>\n",
       "      <td>antipholus</td>\n",
       "      <td>0.00267373</td>\n",
       "    </tr>\n",
       "    <tr>\n",
       "      <th>892</th>\n",
       "      <td>hero</td>\n",
       "      <td>0.00476393</td>\n",
       "    </tr>\n",
       "    <tr>\n",
       "      <th>753</th>\n",
       "      <td>achilles</td>\n",
       "      <td>0.00479914</td>\n",
       "    </tr>\n",
       "    <tr>\n",
       "      <th>957</th>\n",
       "      <td>valentine</td>\n",
       "      <td>0.00512993</td>\n",
       "    </tr>\n",
       "    <tr>\n",
       "      <th>705</th>\n",
       "      <td>monster</td>\n",
       "      <td>0.00531896</td>\n",
       "    </tr>\n",
       "    <tr>\n",
       "      <th>574</th>\n",
       "      <td>timon</td>\n",
       "      <td>0.00547056</td>\n",
       "    </tr>\n",
       "    <tr>\n",
       "      <th>671</th>\n",
       "      <td>troilus</td>\n",
       "      <td>0.00551025</td>\n",
       "    </tr>\n",
       "    <tr>\n",
       "      <th>986</th>\n",
       "      <td>ajax</td>\n",
       "      <td>0.00554097</td>\n",
       "    </tr>\n",
       "    <tr>\n",
       "      <th>856</th>\n",
       "      <td>antonio</td>\n",
       "      <td>0.00594036</td>\n",
       "    </tr>\n",
       "  </tbody>\n",
       "</table>\n",
       "</div>"
      ],
      "text/plain": [
       "           word     loading\n",
       "500         don  0.00130088\n",
       "332  antipholus  0.00267373\n",
       "892        hero  0.00476393\n",
       "753    achilles  0.00479914\n",
       "957   valentine  0.00512993\n",
       "705     monster  0.00531896\n",
       "574       timon  0.00547056\n",
       "671     troilus  0.00551025\n",
       "986        ajax  0.00554097\n",
       "856     antonio  0.00594036"
      ]
     },
     "metadata": {
      "tags": []
     },
     "output_type": "display_data"
    }
   ],
   "source": [
    "# grading cell - do not modify\n",
    "display(most_imp_df)\n",
    "display(least_imp_df)"
   ]
  },
  {
   "cell_type": "markdown",
   "metadata": {
    "id": "Vv4QdBLHoazI"
   },
   "source": [
    "Your explanation here\n",
    "\n",
    "Based on the absolute value of the words' pc loadings, I am able to generate 10 most important and least important words. Since pc loading values can be inferred as correlation coefficients, the greater the pc loading values are, the higher variance that those words captured. The most imporant words with high variance also dictated the space direction of the characters. These are the words that differential the characteristics of the character and lead to big variance. On the other hand, the least important words with low loading values do not have strong impact for characters' unique features. "
   ]
  },
  {
   "cell_type": "markdown",
   "metadata": {
    "id": "GIN60eWvK7N2"
   },
   "source": [
    "# Part 2: K-Means Clustering"
   ]
  },
  {
   "cell_type": "markdown",
   "metadata": {
    "id": "PHajMTKtGrI8"
   },
   "source": [
    "# Question 7 (10 pts)\n",
    "Read the python K-means [docs](https://spark.apache.org/docs/latest/ml-clustering.html#k-means).  Use the `chars_pca_df` from question 2 above and compute K-Means silhouette scores for K = 2 through 6 on the PCA score data. You are free to create a new dataframe to reorganize the PCA data or regenerate the data in chars_pca_df if you wish.   Train your model on each K 3 times to find the lowest silhouette score.  The silhouette score is a measure of within cluster variation.  Remember that because K-Means starts out with random cluster assignments, it is not guaranteed to find a global minima so you should make multiple runs to find the lowest score.  Plot the silhouette scores vs. K and report the lowest silhouette score from the plot. If the process of finding the lowest silhouette scores is taking too much time, reduce the number of PCA score columns such that you capture a reasonable amount of variance but complete training in a more reasonable amount of time.  The work you did in question 3 above could be useful here."
   ]
  },
  {
   "cell_type": "code",
   "execution_count": 19,
   "metadata": {
    "colab": {
     "base_uri": "https://localhost:8080/",
     "height": 528
    },
    "id": "M86FRObFNIDr",
    "outputId": "ee11b910-f6cd-4672-d66d-10affdc82dbd"
   },
   "outputs": [
    {
     "data": {
      "image/png": "[encoded data removed]",
      "text/plain": [
       "<Figure size 576x576 with 1 Axes>"
      ]
     },
     "metadata": {
      "needs_background": "light",
      "tags": []
     },
     "output_type": "display_data"
    },
    {
     "name": "stdout",
     "output_type": "stream",
     "text": [
      "The highest silhouette score for each cluster:  0.5022769305300375\n"
     ]
    }
   ],
   "source": [
    "# your code here\n",
    "from pyspark.ml.clustering import KMeans\n",
    "from pyspark.ml.feature import Normalizer\n",
    "from pyspark.ml.evaluation import ClusteringEvaluator\n",
    "\n",
    "k_score = []\n",
    "\n",
    "#define evaluator\n",
    "evaluator = ClusteringEvaluator().setFeaturesCol('norm_tfidf').setPredictionCol('kmeans_feature')\n",
    "\n",
    "for k in np.arange(2,7):\n",
    "  normal = Normalizer().setInputCol('z_tfidf').setOutputCol('norm_tfidf').setP(2.0)\n",
    "  kmeans = KMeans().setFeaturesCol('norm_tfidf').setPredictionCol('kmeans_feature').setK(k)\n",
    "  sil_list = []\n",
    "#calcualte kmean clustering model's silhoutte score for 3 times\n",
    "  for trial in range(3):\n",
    "    kmeans_model = Pipeline(stages=[normal, kmeans]).fit(chars_pca_df)\n",
    "    prediction = kmeans_model.transform(chars_pca_df)\n",
    "    score = evaluator.evaluate(prediction)\n",
    "    sil_list.append(score)\n",
    "\n",
    "  k_score.append(max(sil_list))\n",
    "\n",
    "# Plotting\n",
    "plt.figure(figsize=(8,8))\n",
    "plt.plot(np.arange(2,7),k_score, 'o', ls = '-')\n",
    "plt.xlabel('K Values')\n",
    "plt.ylabel('Silhoutte Score')\n",
    "plt.title('Silhoutte Score vs. K values')\n",
    "plt.show()\n",
    "print('The highest silhouette score for each cluster: ', max(k_score))"
   ]
  },
  {
   "cell_type": "markdown",
   "metadata": {
    "id": "peXo1K9rMXDJ"
   },
   "source": [
    "# Question 8 (20 pts)\n",
    "Perform K-Means clustering using the `chars_pca_df` and plot the results using a scatter plot.  Color the points by cluster assignment.  You are allowed to create a new dataframe from chars_pca_df or regenerate the data if you wish.  The work you did in question 7 above can be applied directly to this problem.  The goal of this question is to try to find an interesting insight about the Shakespeare characters.  For example, perhaps you spot one or more outlier characters that stands apart from the rest of the characters in the cluster.  An example of this is how IST-718 and IST-719 stand out from the rest of the cluster in the unsupervised learning notebook presented in class (though that plot did not use K-Means clustering, it only used PCA).  Note that in the previous example, I am only providing an example of 1 type of interesting insight.  When you find something interesting, add labels to the points of interest so that the reader of your plot can understand the insight.  Provide an explanation of your insight.  This question is completely open ended and you are free to generate the clusters any way you see fit as long as you use K-Means and your methodology follows good data science practices.  You can plot the observation data in 2 dimensions by using PC1 and PC2 as the X and Y coordinates.  Your plot should be easy to read and not overly cluttered.  This question will be graded on your level of effort in comparison to what insights other students in the class find."
   ]
  },
  {
   "cell_type": "code",
   "execution_count": 26,
   "metadata": {
    "colab": {
     "base_uri": "https://localhost:8080/",
     "height": 1000
    },
    "id": "vs1j6Ac2Y2or",
    "outputId": "df1b1c1e-3560-4c09-dc99-6d9baba72ef1"
   },
   "outputs": [
    {
     "data": {
      "image/png": "[encoded data removed]",
      "text/plain": [
       "<Figure size 504x504 with 1 Axes>"
      ]
     },
     "metadata": {
      "needs_background": "light",
      "tags": []
     },
     "output_type": "display_data"
    },
    {
     "data": {
      "image/png": "[encoded data removed]",
      "text/plain": [
       "<Figure size 648x648 with 1 Axes>"
      ]
     },
     "metadata": {
      "needs_background": "light",
      "tags": []
     },
     "output_type": "display_data"
    }
   ],
   "source": [
    "# your code here\n",
    "\n",
    "# Trains a k-means model with two clusters\n",
    "normal = Normalizer().setInputCol('z_tfidf').setOutputCol('norm_tfidf').setP(2)\n",
    "kmeans = KMeans().setFeaturesCol('norm_tfidf').setPredictionCol('prediction').setK(2)\n",
    "kmeans_model = Pipeline(stages=[normal, kmeans]).fit(chars_pca_df)\n",
    "\n",
    "# Make predictions\n",
    "prediction_df = kmeans_model.transform(chars_pca_df)\n",
    "\n",
    "# Extract information: character names, PC1 & PC2 scores, Predictions\n",
    "Score_c1 = np.array(prediction_df.where(fn.col('prediction')==1).rdd.map(lambda x: x['scores']).collect())\n",
    "Score_c2 = np.array(prediction_df.where(fn.col('prediction')==0).rdd.map(lambda x: x['scores']).collect())\n",
    "char_c1 = np.array(prediction_df.where(fn.col('prediction')==1).rdd.map(lambda x: x['character']).collect())\n",
    "char_c2 = np.array(prediction_df.where(fn.col('prediction')==0).rdd.map(lambda x: x['character']).collect())\n",
    "\n",
    "# plot the cluster plot\n",
    "fig, ax = plt.subplots()\n",
    "fig.set_figheight(7)\n",
    "fig.set_figwidth(7)\n",
    "\n",
    "# Part 1: plot clusters with different colors\n",
    "ax.scatter(Score_c1[:,0], Score_c1[:,1],c='y',label='Cluster 1')\n",
    "ax.scatter(Score_c2[:,0], Score_c2[:,1],c='g',label='Cluster 2')\n",
    "fig.suptitle(\"Two Character Clusters Based on Quote Wordings\")\n",
    "ax.set_xlabel(\"PC1\")\n",
    "ax.set_ylabel(\"PC2\")\n",
    "plt.legend()\n",
    "plt.show()\n",
    "\n",
    "# Data Filtering in cluster 1\n",
    "idx_1 = Score_c1[:, 0] <-30\n",
    "Score_c1 = Score_c1[idx_1]\n",
    "char_c1 = char_c1[idx_1]\n",
    "\n",
    "# Data Filtering in cluster 2\n",
    "idx_2 = Score_c2[:, 0] < -30\n",
    "Score_c2 = Score_c2[idx_2]\n",
    "char_c2 = char_c2[idx_2]\n",
    "\n",
    "\n",
    "# Plotting part 2\n",
    "fig, ax = plt.subplots()\n",
    "fig.set_figheight(9)\n",
    "fig.set_figwidth(9)\n",
    "\n",
    "# Part 2: plot clusters with different colors\n",
    "ax.scatter(Score_c1[:,0], Score_c1[:,1],c='g',label='Cluster 1')\n",
    "ax.scatter(Score_c2[:,0], Score_c2[:,1],c='b',label='Cluster 2')\n",
    "fig.suptitle(\"Character Cluster Based on Quote wordings\")\n",
    "ax.set_xlabel(\"PC1\")\n",
    "ax.set_ylabel(\"PC2\")\n",
    "\n",
    "# Annotation\n",
    "for i, txt in enumerate(char_c1):\n",
    "  ax.annotate(txt, (Score_c1[i,0], Score_c1[i,1]))\n",
    "\n",
    "for i, txt in enumerate(char_c2):\n",
    "  ax.annotate(txt, (Score_c2[i,0]+50, Score_c2[i,1]-20))\n",
    "plt.legend()\n",
    "plt.show()\n",
    "\n"
   ]
  },
  {
   "cell_type": "markdown",
   "metadata": {
    "id": "MqY3QMORPxFV"
   },
   "source": [
    "Your insight explanation here:\n",
    "\n",
    "What I did for question 8 is to investigate whether there is any outliner character among all the Shakespeare's characters. In the data we are provided, I generated the normalizd tfidf data from the all_quotes column and I hope to identify the potential outliner characters from the quotes each character has. By using tfidf data as input for k - means clustering analysis, I am able to identify two outliner characters based on the TF-IDF quote data. In the meantime, I used PC1 scores and PC2 scores for x and y axis in order to better illustrate the cluster (Lower dimension). Based on the k-means clustering prediction, falstaff and gloucester are the two outliner characters from each of their respected clusters. However, as we observed the scatterplot, the obvious outliners are falstaff and gloucester based on PC1 and PC2 scores. Despite that the characters timon and isabella are relatively closer to cluster group zero, the outliners can potentially be presented better with different PC scores as axises.\n",
    "\n",
    "To summarize my analysis, we can find that falstaff and gloucester are the outliner characters from their quotes and shakespeare intentionally and secretly created these two outliners with the words he chose!\n"
   ]
  }
 ],
 "metadata": {
  "colab": {
   "collapsed_sections": [],
   "name": "IST_718_Fall_2020_Homework_5.ipynb",
   "provenance": []
  },
  "kernelspec": {
   "display_name": "Python 3",
   "language": "python",
   "name": "python3"
  },
  "language_info": {
   "codemirror_mode": {
    "name": "ipython",
    "version": 3
   },
   "file_extension": ".py",
   "mimetype": "text/x-python",
   "name": "python",
   "nbconvert_exporter": "python",
   "pygments_lexer": "ipython3",
   "version": "3.7.1"
  }
 },
 "nbformat": 4,
 "nbformat_minor": 1
}
