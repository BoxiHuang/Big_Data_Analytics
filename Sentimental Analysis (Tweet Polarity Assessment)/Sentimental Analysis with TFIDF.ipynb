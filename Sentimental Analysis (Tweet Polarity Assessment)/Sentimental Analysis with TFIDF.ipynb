{
 "cells": [
  {
   "cell_type": "code",
   "execution_count": 5,
   "metadata": {
    "colab": {
     "base_uri": "https://localhost:8080/",
     "height": 68
    },
    "id": "GF3llooZxRFL",
    "outputId": "fe0b896d-b48f-4ca9-d512-c609054ef38f"
   },
   "outputs": [
    {
     "name": "stdout",
     "output_type": "stream",
     "text": [
      "Requirement already satisfied: pyspark in /usr/local/lib/python3.6/dist-packages (3.0.1)\n",
      "Requirement already satisfied: py4j==0.10.9 in /usr/local/lib/python3.6/dist-packages (from pyspark) (0.10.9)\n",
      "tweets.csv\n"
     ]
    }
   ],
   "source": [
    "%%bash\n",
    "\n",
    "# Need to install pyspark\n",
    "# if pyspark is already installed, will print a message indicating pyspark already isntalled\n",
    "pip install pyspark\n",
    "\n",
    "# Download tweets.csv from github\n",
    "# If the tweets.csv file does not exist in the colab environment\n",
    "if [[ ! -f ./tweets.csv ]]; then \n",
    "   # download tweets.csv file from github and save it in this colab environment instance\n",
    "   wget https://raw.githubusercontent.com/wewilli1/ist718_data/master/tweets.csv   \n",
    "fi\n",
    "\n",
    "# vefify tweets.csv exits in the colab env - should not print an error message\n",
    "ls tweets.csv"
   ]
  },
  {
   "cell_type": "code",
   "execution_count": 6,
   "metadata": {
    "id": "nMmYj81PxRFP"
   },
   "outputs": [],
   "source": [
    "# import statements\n",
    "from pyspark.sql import SparkSession\n",
    "from pyspark.sql import SQLContext\n",
    "spark = SparkSession.builder.getOrCreate()\n",
    "sc = spark.sparkContext\n",
    "sqlContext = SQLContext(sc)"
   ]
  },
  {
   "cell_type": "code",
   "execution_count": 7,
   "metadata": {
    "colab": {
     "base_uri": "https://localhost:8080/",
     "height": 122
    },
    "id": "B2B2Fy7-xRFS",
    "outputId": "66790199-c7b8-49c5-dacd-3c36f7f7586c"
   },
   "outputs": [
    {
     "data": {
      "text/plain": [
       "[Row(target='4', id='1467822272', date='Mon Apr 06 22:22:45 PDT 2009', flag='NO_QUERY', user='ersle', text='I LOVE @Health4UandPets u guys r the best!! '),\n",
       " Row(target='4', id='1467822273', date='Mon Apr 06 22:22:45 PDT 2009', flag='NO_QUERY', user='becca210', text='im meeting up with one of my besties tonight! Cant wait!!  - GIRL TALK!!'),\n",
       " Row(target='4', id='1467822283', date='Mon Apr 06 22:22:46 PDT 2009', flag='NO_QUERY', user='Wingman29', text='@DaRealSunisaKim Thanks for the Twitter add, Sunisa! I got to meet you once at a HIN show here in the DC area and you were a sweetheart. '),\n",
       " Row(target='4', id='1467822287', date='Mon Apr 06 22:22:46 PDT 2009', flag='NO_QUERY', user='katarinka', text='Being sick can be really cheap when it hurts too much to eat real food  Plus, your friends make you soup'),\n",
       " Row(target='4', id='1467822293', date='Mon Apr 06 22:22:46 PDT 2009', flag='NO_QUERY', user='_EmilyYoung', text='@LovesBrooklyn2 he has that effect on everyone ')]"
      ]
     },
     "execution_count": 7,
     "metadata": {
      "tags": []
     },
     "output_type": "execute_result"
    }
   ],
   "source": [
    "# example code to read the downloaded tweets.csv file on colab\n",
    "tweets_df = spark.read.format(\"csv\").option(\"header\", \"true\").load(\"tweets.csv\")\n",
    "tweets_df.take(5)"
   ]
  },
  {
   "cell_type": "markdown",
   "metadata": {
    "id": "z5FeY3L8x5IN"
   },
   "source": [
    "What problems did you have with colab? Your comments here:\n",
    "    \n",
    "I do not have major problem with colab and I have a great experience using this platform. However, one concern that I have is that if we train/test model with heavy weight operations (Ex: Large data set), I am worry that the datafile recycling on Google Colab might have a negative impact with the model training and testing. "
   ]
  },
  {
   "cell_type": "code",
   "execution_count": 9,
   "metadata": {
    "id": "XWTuJqnyxRFY"
   },
   "outputs": [],
   "source": [
    "# Do not delete or change this cell\n",
    "\n",
    "enable_grid = True\n",
    "\n",
    "# grading import statements\n",
    "%matplotlib inline\n",
    "from pyspark.sql import SparkSession\n",
    "from pyspark.sql import SQLContext\n",
    "spark = SparkSession.builder.getOrCreate()\n",
    "sc = spark.sparkContext\n",
    "sqlContext = SQLContext(sc)\n",
    "import os\n",
    "\n",
    "# Define a function to determine if we are running on data bricks\n",
    "# Return true if running in the data bricks environment, false otherwise\n",
    "def is_databricks():\n",
    "    # get the databricks runtime version\n",
    "    db_env = os.getenv(\"DATABRICKS_RUNTIME_VERSION\")\n",
    "    \n",
    "    # if running on data bricks\n",
    "    if db_env != None:\n",
    "        return True\n",
    "    else:\n",
    "        return False\n",
    "\n",
    "# Define a function to read the data file.  The full path data file name is constructed\n",
    "# by checking runtime environment variables to determine if the runtime environment is \n",
    "# databricks, or a student's personal computer.  The full path file name is then\n",
    "# constructed based on the runtime env.\n",
    "# \n",
    "# Params\n",
    "#   data_file_name: The base name of the data file to load\n",
    "# \n",
    "# Returns the full path file name based on the runtime env\n",
    "#\n",
    "# Correct Usage Example (pass ONLY the full file name):\n",
    "#   file_name_to_load = get_training_filename(\"sms_spam.csv\") # correct - pass ONLY the full file name  \n",
    "#   \n",
    "# Incorrect Usage Example\n",
    "#   file_name_to_load = get_training_filename(\"/sms_spam.csv\") # incorrect - pass ONLY the full file name\n",
    "#   file_name_to_load = get_training_filename(\"sms_spam.csv/\") # incorrect - pass ONLY the full file name\n",
    "#   file_name_to_load = get_training_filename(\"c:/users/will/data/sms_spam.csv\") incorrect -pass ONLY the full file name\n",
    "def get_training_filename(data_file_name):    \n",
    "    # if running on data bricks\n",
    "    if is_databricks():\n",
    "        # build the full path file name assuming data brick env\n",
    "        full_path_name = \"dbfs:/FileStore/tables/%s\" % data_file_name\n",
    "    # else the data is assumed to be in the same dir as this notebook\n",
    "    else:\n",
    "        # Assume the student is running on their own computer and load the data\n",
    "        # file from the same dir as this notebook\n",
    "        full_path_name = data_file_name\n",
    "    \n",
    "    # return the full path file name to the caller\n",
    "    return full_path_name"
   ]
  },
  {
   "cell_type": "markdown",
   "metadata": {
    "id": "T_CWPFkkxRFb"
   },
   "source": [
    "# Sentiment Analysis\n",
    "In this assignment, you will use the tweets.csv file to perform sentiment analysis. The tweets.csv file contains the following columns:\n",
    "- target: the polarity of the tweet (0 = negative, 4 = positive)\n",
    "- ids: The id of the tweet ( 2087)\n",
    "- date: the date of the tweet (Sat May 16 23:58:44 UTC 2009)\n",
    "- flag: The query (lyx). If there is no query, then this value is NO_QUERY.\n",
    "- user: the user that tweeted (robotickilldozr)\n",
    "- text: the text of the tweet (Lyx is cool)"
   ]
  },
  {
   "cell_type": "markdown",
   "metadata": {
    "id": "u8AboFtBxRFb"
   },
   "source": [
    "# Qustion 1: (10 pts)\n",
    "Read tweets.csv into a spark dataframe named `tweets_df`.  Solutions that do not use `get_training_filename` will be heavily penalized.  Drop all columns except target and text.  Transform the target column such that a negative sentiment is equal to 0 and a positive sentiment is equal to 1.  Determine and print the percentage of positive and negative tweets in the dataframe such that it's easy for the graders to find and interpret your data."
   ]
  },
  {
   "cell_type": "code",
   "execution_count": 11,
   "metadata": {
    "colab": {
     "base_uri": "https://localhost:8080/",
     "height": 136
    },
    "id": "LiaXgmfGxRFc",
    "outputId": "c94ad8ef-3f43-4f27-e9f1-64fda483be0b"
   },
   "outputs": [
    {
     "name": "stdout",
     "output_type": "stream",
     "text": [
      "+------+-----------------------+-------------------+\n",
      "|target|Count based on polarity|Polarity percentage|\n",
      "+------+-----------------------+-------------------+\n",
      "|     1|                  50000|               50.0|\n",
      "|     0|                  50000|               50.0|\n",
      "+------+-----------------------+-------------------+\n",
      "\n"
     ]
    }
   ],
   "source": [
    "# your code here\n",
    "import pyspark\n",
    "from pyspark.sql import SparkSession\n",
    "from pyspark.sql import SQLContext\n",
    "spark = SparkSession.builder.getOrCreate()\n",
    "sc = spark.sparkContext\n",
    "sqlContext = SQLContext(sc)\n",
    "import pyspark.sql.functions as fn \n",
    "from pyspark.sql.functions import col, when, size\n",
    "import os\n",
    "\n",
    "tweets_df = spark.read.format(\"csv\").option(\"header\", \"true\").load(get_training_filename(\"tweets.csv\"))\n",
    "drop_col = ['id','date','flag','user']\n",
    "tweets_df = tweets_df.drop(*drop_col)\n",
    "tweets_df = tweets_df.withColumn(\"target\", when(col(\"target\") == 0, 0)\n",
    "                                 .when(col(\"target\") == 4, 1))\n",
    "tot = tweets_df.count()\n",
    "percent = tweets_df.groupBy('target').count().withColumnRenamed('count',\"Count based on polarity\").withColumn(\"Polarity percentage\", fn.col(\"Count based on polarity\")/tot *100)\n",
    "percent.show()\n"
   ]
  },
  {
   "cell_type": "code",
   "execution_count": 12,
   "metadata": {
    "colab": {
     "base_uri": "https://localhost:8080/",
     "height": 221
    },
    "id": "Pl4yr1hYxRFo",
    "outputId": "862cb08a-ae64-42bb-b842-b7d2d280bb1b"
   },
   "outputs": [
    {
     "data": {
      "text/html": [
       "<div>\n",
       "<style scoped>\n",
       "    .dataframe tbody tr th:only-of-type {\n",
       "        vertical-align: middle;\n",
       "    }\n",
       "\n",
       "    .dataframe tbody tr th {\n",
       "        vertical-align: top;\n",
       "    }\n",
       "\n",
       "    .dataframe thead th {\n",
       "        text-align: right;\n",
       "    }\n",
       "</style>\n",
       "<table border=\"1\" class=\"dataframe\">\n",
       "  <thead>\n",
       "    <tr style=\"text-align: right;\">\n",
       "      <th></th>\n",
       "      <th>target</th>\n",
       "      <th>text</th>\n",
       "    </tr>\n",
       "  </thead>\n",
       "  <tbody>\n",
       "    <tr>\n",
       "      <th>0</th>\n",
       "      <td>1</td>\n",
       "      <td>I LOVE @Health4UandPets u guys r the best!!</td>\n",
       "    </tr>\n",
       "    <tr>\n",
       "      <th>1</th>\n",
       "      <td>1</td>\n",
       "      <td>im meeting up with one of my besties tonight! ...</td>\n",
       "    </tr>\n",
       "    <tr>\n",
       "      <th>2</th>\n",
       "      <td>1</td>\n",
       "      <td>@DaRealSunisaKim Thanks for the Twitter add, S...</td>\n",
       "    </tr>\n",
       "    <tr>\n",
       "      <th>3</th>\n",
       "      <td>1</td>\n",
       "      <td>Being sick can be really cheap when it hurts t...</td>\n",
       "    </tr>\n",
       "    <tr>\n",
       "      <th>4</th>\n",
       "      <td>1</td>\n",
       "      <td>@LovesBrooklyn2 he has that effect on everyone</td>\n",
       "    </tr>\n",
       "  </tbody>\n",
       "</table>\n",
       "</div>"
      ],
      "text/plain": [
       "   target                                               text\n",
       "0       1       I LOVE @Health4UandPets u guys r the best!! \n",
       "1       1  im meeting up with one of my besties tonight! ...\n",
       "2       1  @DaRealSunisaKim Thanks for the Twitter add, S...\n",
       "3       1  Being sick can be really cheap when it hurts t...\n",
       "4       1    @LovesBrooklyn2 he has that effect on everyone "
      ]
     },
     "metadata": {
      "tags": []
     },
     "output_type": "display_data"
    },
    {
     "name": "stdout",
     "output_type": "stream",
     "text": [
      "(100000, 2)\n"
     ]
    }
   ],
   "source": [
    "# grading cell do not modify\n",
    "tweets_pd = tweets_df.toPandas()\n",
    "display(tweets_pd.head())\n",
    "print(tweets_pd.shape)"
   ]
  },
  {
   "cell_type": "markdown",
   "metadata": {
    "id": "NdftI6pexRFs"
   },
   "source": [
    "# Question 2: (10 pts)\n",
    "Pre-process the data by creating a pipeline named `tweets_pre_proc_pipe`. Your pipeline should tokenize, remove stop words, and do a TF-IDF transformation.  Fit and execute your pipeline, and create a new dataframe named `tweets_pre_proc_df`.  Print the shape of the resulting TF-IDF data such that it's easy for the graders to find and understand as num rows x num words. Based on the shape of the TF-IDF data, would you expect a logistic regression model to overfit?"
   ]
  },
  {
   "cell_type": "code",
   "execution_count": 14,
   "metadata": {
    "colab": {
     "base_uri": "https://localhost:8080/",
     "height": 34
    },
    "id": "EaGlReFdxRFs",
    "outputId": "972ca50e-aa01-4b75-c101-bbd34707c966"
   },
   "outputs": [
    {
     "name": "stdout",
     "output_type": "stream",
     "text": [
      "(num row x num word) : (100000, 13693)\n"
     ]
    }
   ],
   "source": [
    "# your code here\n",
    "from pyspark.ml import Pipeline\n",
    "from pyspark.ml.feature import Tokenizer, StopWordsRemover\n",
    "from pyspark.ml.feature import IDF\n",
    "from pyspark.ml.feature import CountVectorizer\n",
    "from pyspark.ml.feature import RegexTokenizer\n",
    "import requests\n",
    "stop_words = requests.get('http://ir.dcs.gla.ac.uk/resources/linguistic_utils/stop_words').text.split()\n",
    "\n",
    "#tokenizer = RegexTokenizer(minTokenLength=2).setInputCol('text').setOutputCol('words').setGaps(False).setPattern(\"\\\\p{L}+\")\n",
    "#tokenizer = RegexTokenizer().setInputCol('text').setOutputCol('words')\n",
    "tokenizer = Tokenizer(inputCol=\"text\", outputCol=\"words\")\n",
    "#remover = StopWordsRemover(inputCol='words', outputCol='words_clean')\n",
    "\n",
    "remover = StopWordsRemover()\\\n",
    "  .setStopWords(stop_words)\\\n",
    "  .setCaseSensitive(False)\\\n",
    "  .setInputCol(\"words\")\\\n",
    "  .setOutputCol(\"words_clean\")\n",
    "\n",
    "cv = CountVectorizer(minTF =1, minDF = 5, vocabSize = 2**17, inputCol='words_clean', outputCol=\"tf\")\n",
    "idf = IDF(inputCol=\"tf\", outputCol=\"tfidf\")\n",
    "\n",
    "# Pre-processing pipeline\n",
    "tweets_pre_proc_pipe = Pipeline(stages=[tokenizer,remover,cv,idf])\n",
    "\n",
    "# fit the model with tweets_df\n",
    "model = tweets_pre_proc_pipe.fit(tweets_df)\n",
    "tweets_pre_proc_df = model.transform(tweets_df)\n",
    "\n",
    "\n",
    "num_row = tweets_pre_proc_df.select('tf').count()\n",
    "#test = tweets_pre_proc_df.withColumn(\"word_count\", size(\"words_clean\"))\n",
    "#num_word = test.groupBy().sum(\"word_count\").collect()[0][0]\n",
    "num_word = len(model.stages[-2].vocabulary)\n",
    "print('(num row x num word) :', (num_row,  num_word))\n"
   ]
  },
  {
   "cell_type": "code",
   "execution_count": 15,
   "metadata": {
    "colab": {
     "base_uri": "https://localhost:8080/",
     "height": 289
    },
    "id": "B0kv-IGxxRFu",
    "outputId": "7671b523-4645-4ba3-924a-d793bee8fe92"
   },
   "outputs": [
    {
     "data": {
      "text/html": [
       "<div>\n",
       "<style scoped>\n",
       "    .dataframe tbody tr th:only-of-type {\n",
       "        vertical-align: middle;\n",
       "    }\n",
       "\n",
       "    .dataframe tbody tr th {\n",
       "        vertical-align: top;\n",
       "    }\n",
       "\n",
       "    .dataframe thead th {\n",
       "        text-align: right;\n",
       "    }\n",
       "</style>\n",
       "<table border=\"1\" class=\"dataframe\">\n",
       "  <thead>\n",
       "    <tr style=\"text-align: right;\">\n",
       "      <th></th>\n",
       "      <th>target</th>\n",
       "      <th>text</th>\n",
       "      <th>words</th>\n",
       "      <th>words_clean</th>\n",
       "      <th>tf</th>\n",
       "      <th>tfidf</th>\n",
       "    </tr>\n",
       "  </thead>\n",
       "  <tbody>\n",
       "    <tr>\n",
       "      <th>0</th>\n",
       "      <td>1</td>\n",
       "      <td>I LOVE @Health4UandPets u guys r the best!!</td>\n",
       "      <td>[i, love, @health4uandpets, u, guys, r, the, b...</td>\n",
       "      <td>[love, @health4uandpets, u, guys, r, best!!]</td>\n",
       "      <td>(0.0, 0.0, 0.0, 0.0, 0.0, 0.0, 0.0, 0.0, 0.0, ...</td>\n",
       "      <td>(0.0, 0.0, 0.0, 0.0, 0.0, 0.0, 0.0, 0.0, 0.0, ...</td>\n",
       "    </tr>\n",
       "    <tr>\n",
       "      <th>1</th>\n",
       "      <td>1</td>\n",
       "      <td>im meeting up with one of my besties tonight! ...</td>\n",
       "      <td>[im, meeting, up, with, one, of, my, besties, ...</td>\n",
       "      <td>[im, meeting, besties, tonight!, wait!!, , -, ...</td>\n",
       "      <td>(1.0, 0.0, 0.0, 0.0, 0.0, 1.0, 0.0, 0.0, 0.0, ...</td>\n",
       "      <td>(1.1265280578718189, 0.0, 0.0, 0.0, 0.0, 3.183...</td>\n",
       "    </tr>\n",
       "    <tr>\n",
       "      <th>2</th>\n",
       "      <td>1</td>\n",
       "      <td>@DaRealSunisaKim Thanks for the Twitter add, S...</td>\n",
       "      <td>[@darealsunisakim, thanks, for, the, twitter, ...</td>\n",
       "      <td>[@darealsunisakim, thanks, twitter, add,, suni...</td>\n",
       "      <td>(0.0, 0.0, 0.0, 0.0, 0.0, 0.0, 0.0, 0.0, 0.0, ...</td>\n",
       "      <td>(0.0, 0.0, 0.0, 0.0, 0.0, 0.0, 0.0, 0.0, 0.0, ...</td>\n",
       "    </tr>\n",
       "    <tr>\n",
       "      <th>3</th>\n",
       "      <td>1</td>\n",
       "      <td>Being sick can be really cheap when it hurts t...</td>\n",
       "      <td>[being, sick, can, be, really, cheap, when, it...</td>\n",
       "      <td>[sick, really, cheap, hurts, eat, real, food, ...</td>\n",
       "      <td>(1.0, 0.0, 0.0, 0.0, 0.0, 0.0, 0.0, 0.0, 0.0, ...</td>\n",
       "      <td>(1.1265280578718189, 0.0, 0.0, 0.0, 0.0, 0.0, ...</td>\n",
       "    </tr>\n",
       "    <tr>\n",
       "      <th>4</th>\n",
       "      <td>1</td>\n",
       "      <td>@LovesBrooklyn2 he has that effect on everyone</td>\n",
       "      <td>[@lovesbrooklyn2, he, has, that, effect, on, e...</td>\n",
       "      <td>[@lovesbrooklyn2, effect]</td>\n",
       "      <td>(0.0, 0.0, 0.0, 0.0, 0.0, 0.0, 0.0, 0.0, 0.0, ...</td>\n",
       "      <td>(0.0, 0.0, 0.0, 0.0, 0.0, 0.0, 0.0, 0.0, 0.0, ...</td>\n",
       "    </tr>\n",
       "  </tbody>\n",
       "</table>\n",
       "</div>"
      ],
      "text/plain": [
       "   target  ...                                              tfidf\n",
       "0       1  ...  (0.0, 0.0, 0.0, 0.0, 0.0, 0.0, 0.0, 0.0, 0.0, ...\n",
       "1       1  ...  (1.1265280578718189, 0.0, 0.0, 0.0, 0.0, 3.183...\n",
       "2       1  ...  (0.0, 0.0, 0.0, 0.0, 0.0, 0.0, 0.0, 0.0, 0.0, ...\n",
       "3       1  ...  (1.1265280578718189, 0.0, 0.0, 0.0, 0.0, 0.0, ...\n",
       "4       1  ...  (0.0, 0.0, 0.0, 0.0, 0.0, 0.0, 0.0, 0.0, 0.0, ...\n",
       "\n",
       "[5 rows x 6 columns]"
      ]
     },
     "metadata": {
      "tags": []
     },
     "output_type": "display_data"
    }
   ],
   "source": [
    "# grading cell do not modify\n",
    "display(tweets_pre_proc_df.toPandas().head())\n"
   ]
  },
  {
   "cell_type": "markdown",
   "metadata": {
    "id": "PLNf_3NgxRFw"
   },
   "source": [
    "Your explanation here: "
   ]
  },
  {
   "cell_type": "markdown",
   "metadata": {
    "id": "5SV0lHvTxRFx"
   },
   "source": [
    "Based on the shape of the TF-IDF data, I think the logistic regression model will be overfitted because we have a significantly larger number of features than the number of data within the dataset. And this number of data is prior to spliting into training, validation and testing set,too."
   ]
  },
  {
   "cell_type": "markdown",
   "metadata": {
    "id": "iOINu8VhxRFx"
   },
   "source": [
    "# Question 3: (10 pts)\n",
    "Since IDF considers a word's frequency across all documents in a corpus, you can use IDF as a form of inference.  Examine the documentation for the spark ML object that you used to create TF-IDF scores and learn how to extract the IDF scores for words in the corpus.  Create a pandas dataframe containing the 5 most important IDF scores named `most_imp_idf`.  Create another pandas dataframe containing the 5 least important IDF scores named `least_imp_idf`.  Each dataframe shall have 2 columns named `word` and `idf_score`.  Explain in words your interpretation of what the IDF scores mean."
   ]
  },
  {
   "cell_type": "code",
   "execution_count": 18,
   "metadata": {
    "id": "sDAaOVGWxRFy"
   },
   "outputs": [],
   "source": [
    "# your code here\n",
    "# NEED TO COME BACK HERE\n",
    "\n",
    "import pandas as pd\n",
    "\n",
    "\n",
    "# Extract words and idf score\n",
    "word = model.stages[-2].vocabulary\n",
    "#print(len(word))\n",
    "idf = model.stages[-1].idf\n",
    "# Create panda dataframe\n",
    "word_idf_pd = pd.DataFrame({'word': word, 'idf_score': idf })\n",
    "max_value = word_idf_pd['idf_score'].max()\n",
    "most_imp_idf = word_idf_pd[word_idf_pd['idf_score']== max_value]\n",
    "#most_imp_idf = word_idf_pd.sort_values('idf_score', ascending=False).head(5)\n",
    "least_imp_idf = word_idf_pd.sort_values('idf_score', ascending=True).head(5)\n",
    "\n",
    "\n"
   ]
  },
  {
   "cell_type": "code",
   "execution_count": 19,
   "metadata": {
    "colab": {
     "base_uri": "https://localhost:8080/",
     "height": 606
    },
    "id": "OrtxkKEuxRF1",
    "outputId": "9ed29a36-7cdb-44ee-920d-96f3aa650812"
   },
   "outputs": [
    {
     "data": {
      "text/html": [
       "<div>\n",
       "<style scoped>\n",
       "    .dataframe tbody tr th:only-of-type {\n",
       "        vertical-align: middle;\n",
       "    }\n",
       "\n",
       "    .dataframe tbody tr th {\n",
       "        vertical-align: top;\n",
       "    }\n",
       "\n",
       "    .dataframe thead th {\n",
       "        text-align: right;\n",
       "    }\n",
       "</style>\n",
       "<table border=\"1\" class=\"dataframe\">\n",
       "  <thead>\n",
       "    <tr style=\"text-align: right;\">\n",
       "      <th></th>\n",
       "      <th>word</th>\n",
       "      <th>idf_score</th>\n",
       "    </tr>\n",
       "  </thead>\n",
       "  <tbody>\n",
       "    <tr>\n",
       "      <th>7853</th>\n",
       "      <td>tsk</td>\n",
       "      <td>9.721176</td>\n",
       "    </tr>\n",
       "    <tr>\n",
       "      <th>8196</th>\n",
       "      <td>but..</td>\n",
       "      <td>9.721176</td>\n",
       "    </tr>\n",
       "    <tr>\n",
       "      <th>9121</th>\n",
       "      <td>thks</td>\n",
       "      <td>9.721176</td>\n",
       "    </tr>\n",
       "    <tr>\n",
       "      <th>9164</th>\n",
       "      <td>(8)</td>\n",
       "      <td>9.721176</td>\n",
       "    </tr>\n",
       "    <tr>\n",
       "      <th>9185</th>\n",
       "      <td>broke,</td>\n",
       "      <td>9.721176</td>\n",
       "    </tr>\n",
       "    <tr>\n",
       "      <th>...</th>\n",
       "      <td>...</td>\n",
       "      <td>...</td>\n",
       "    </tr>\n",
       "    <tr>\n",
       "      <th>13688</th>\n",
       "      <td>suckss</td>\n",
       "      <td>9.721176</td>\n",
       "    </tr>\n",
       "    <tr>\n",
       "      <th>13689</th>\n",
       "      <td>prada</td>\n",
       "      <td>9.721176</td>\n",
       "    </tr>\n",
       "    <tr>\n",
       "      <th>13690</th>\n",
       "      <td>universe!</td>\n",
       "      <td>9.721176</td>\n",
       "    </tr>\n",
       "    <tr>\n",
       "      <th>13691</th>\n",
       "      <td>playin'</td>\n",
       "      <td>9.721176</td>\n",
       "    </tr>\n",
       "    <tr>\n",
       "      <th>13692</th>\n",
       "      <td>blended</td>\n",
       "      <td>9.721176</td>\n",
       "    </tr>\n",
       "  </tbody>\n",
       "</table>\n",
       "<p>2085 rows × 2 columns</p>\n",
       "</div>"
      ],
      "text/plain": [
       "            word  idf_score\n",
       "7853         tsk   9.721176\n",
       "8196       but..   9.721176\n",
       "9121        thks   9.721176\n",
       "9164         (8)   9.721176\n",
       "9185      broke,   9.721176\n",
       "...          ...        ...\n",
       "13688     suckss   9.721176\n",
       "13689      prada   9.721176\n",
       "13690  universe!   9.721176\n",
       "13691    playin'   9.721176\n",
       "13692    blended   9.721176\n",
       "\n",
       "[2085 rows x 2 columns]"
      ]
     },
     "metadata": {
      "tags": []
     },
     "output_type": "display_data"
    },
    {
     "data": {
      "text/html": [
       "<div>\n",
       "<style scoped>\n",
       "    .dataframe tbody tr th:only-of-type {\n",
       "        vertical-align: middle;\n",
       "    }\n",
       "\n",
       "    .dataframe tbody tr th {\n",
       "        vertical-align: top;\n",
       "    }\n",
       "\n",
       "    .dataframe thead th {\n",
       "        text-align: right;\n",
       "    }\n",
       "</style>\n",
       "<table border=\"1\" class=\"dataframe\">\n",
       "  <thead>\n",
       "    <tr style=\"text-align: right;\">\n",
       "      <th></th>\n",
       "      <th>word</th>\n",
       "      <th>idf_score</th>\n",
       "    </tr>\n",
       "  </thead>\n",
       "  <tbody>\n",
       "    <tr>\n",
       "      <th>0</th>\n",
       "      <td></td>\n",
       "      <td>1.126528</td>\n",
       "    </tr>\n",
       "    <tr>\n",
       "      <th>1</th>\n",
       "      <td>just</td>\n",
       "      <td>2.588812</td>\n",
       "    </tr>\n",
       "    <tr>\n",
       "      <th>2</th>\n",
       "      <td>i'm</td>\n",
       "      <td>2.645649</td>\n",
       "    </tr>\n",
       "    <tr>\n",
       "      <th>3</th>\n",
       "      <td>good</td>\n",
       "      <td>3.015945</td>\n",
       "    </tr>\n",
       "    <tr>\n",
       "      <th>4</th>\n",
       "      <td>like</td>\n",
       "      <td>3.113850</td>\n",
       "    </tr>\n",
       "  </tbody>\n",
       "</table>\n",
       "</div>"
      ],
      "text/plain": [
       "   word  idf_score\n",
       "0         1.126528\n",
       "1  just   2.588812\n",
       "2   i'm   2.645649\n",
       "3  good   3.015945\n",
       "4  like   3.113850"
      ]
     },
     "metadata": {
      "tags": []
     },
     "output_type": "display_data"
    }
   ],
   "source": [
    "# grading cell do not modify\n",
    "display(most_imp_idf)\n",
    "display(least_imp_idf)"
   ]
  },
  {
   "cell_type": "markdown",
   "metadata": {
    "id": "Ak3qte3tzlDt"
   },
   "source": [
    "Your explanation here: \n",
    "\n",
    "IDF scores represent the inverse document frequency for words in the corpus. \n",
    "I married the vocabularies that were treated as input data for tf-idf process with each of its idf score.\n",
    "Therefore, for the most_imp_idf dataframe, the words that are most frequently shown will be penalized with lower scores. \n",
    "For the least_imp_idf dataframe, the words that are least frequently shown will have higher scores. "
   ]
  },
  {
   "cell_type": "markdown",
   "metadata": {
    "id": "wYx3paKJxRF6"
   },
   "source": [
    "# Question 4: (10 pts)\n",
    "Create a new recursive pipeline named `lr_pipe` which starts with `tweets_pre_proc_pipe` and adds a logistic regression model using default hyper parameters.  Fit lr_pipe using `tweets_df`.  Score the model using ROC AUC.  Report the resulting AUC such that it is easy for graders to find and interpret."
   ]
  },
  {
   "cell_type": "code",
   "execution_count": 21,
   "metadata": {
    "colab": {
     "base_uri": "https://localhost:8080/",
     "height": 34
    },
    "id": "LdlAWWDJxRF7",
    "outputId": "97722aa0-4532-4a3d-f146-14d89a1955c7"
   },
   "outputs": [
    {
     "name": "stdout",
     "output_type": "stream",
     "text": [
      "evaluation (area under ROC): 0.720101\n"
     ]
    }
   ],
   "source": [
    "# your code here\n",
    "from pyspark.ml.classification import LogisticRegression\n",
    "from pyspark.ml.evaluation import BinaryClassificationEvaluator\n",
    "\n",
    "training, validation, test = tweets_df.randomSplit([0.6, 0.3, 0.1], 0)\n",
    "\n",
    "lr = LogisticRegression(labelCol = 'target',featuresCol='tfidf')\n",
    "\n",
    "#Create pipeline\n",
    "lr_pipe = Pipeline(stages=[tweets_pre_proc_pipe, lr])\n",
    "# Fit Model with training\n",
    "lr_model = lr_pipe.fit(training)\n",
    "\n",
    "# Compute raw scores on the test set\n",
    "prediction = lr_model.transform(test)\n",
    "\n",
    "evaluator = BinaryClassificationEvaluator(labelCol='target', rawPredictionCol=\"prediction\")\n",
    "evaluation = evaluator.evaluate(prediction)\n",
    "print(\"evaluation (area under ROC): %f\" % evaluation)\n",
    "\n",
    "\n",
    "\n"
   ]
  },
  {
   "cell_type": "markdown",
   "metadata": {
    "id": "R_j3dD6ZxRF9"
   },
   "source": [
    "# Question 5: (10 pts)\n",
    "Create 2 pandas dataframes named `lr_pipe_df_neg` and `lr_pipe_df_pos`which contain 2 colunms: `word` and `score`.  Load the 2 dataframes with the top 10 words and logistic regression coefficients that contribute the most to negative and positive sentiments respectively. Analyze the 2 dataframes and describe if the words make sense.  Do the words look like they are really negative and positive?"
   ]
  },
  {
   "cell_type": "code",
   "execution_count": 22,
   "metadata": {
    "colab": {
     "base_uri": "https://localhost:8080/",
     "height": 51
    },
    "id": "yGzlpXUoxRF9",
    "outputId": "28d2f482-5efd-4b24-822f-7cf8ef2d669f"
   },
   "outputs": [
    {
     "name": "stdout",
     "output_type": "stream",
     "text": [
      "length of word: 9240\n",
      "length of weights: 9240\n"
     ]
    }
   ],
   "source": [
    "# your code here\n",
    "\n",
    "import pandas as pd\n",
    "\n",
    "word = lr_model.stages[0].stages[-2].vocabulary\n",
    "weights = lr_model.stages[-1].coefficients.toArray()\n",
    "print('length of word:', len(word))\n",
    "print('length of weights:', len(weights))\n",
    "word_weights_df = pd.DataFrame({'word': word, 'score': weights})\n",
    "word_weights_df.head()\n",
    "\n",
    "lr_pipe_df_neg = word_weights_df.sort_values('score').head(10)\n",
    "lr_pipe_df_pos = word_weights_df.sort_values('score', ascending=False).head(10)"
   ]
  },
  {
   "cell_type": "code",
   "execution_count": 23,
   "metadata": {
    "colab": {
     "base_uri": "https://localhost:8080/",
     "height": 701
    },
    "id": "xyc_LRaCxRGA",
    "outputId": "50be8bed-45bf-470c-afe5-ddcd714dbad2"
   },
   "outputs": [
    {
     "data": {
      "text/html": [
       "<div>\n",
       "<style scoped>\n",
       "    .dataframe tbody tr th:only-of-type {\n",
       "        vertical-align: middle;\n",
       "    }\n",
       "\n",
       "    .dataframe tbody tr th {\n",
       "        vertical-align: top;\n",
       "    }\n",
       "\n",
       "    .dataframe thead th {\n",
       "        text-align: right;\n",
       "    }\n",
       "</style>\n",
       "<table border=\"1\" class=\"dataframe\">\n",
       "  <thead>\n",
       "    <tr style=\"text-align: right;\">\n",
       "      <th></th>\n",
       "      <th>word</th>\n",
       "      <th>score</th>\n",
       "    </tr>\n",
       "  </thead>\n",
       "  <tbody>\n",
       "    <tr>\n",
       "      <th>7868</th>\n",
       "      <td>grr.</td>\n",
       "      <td>-4.248248</td>\n",
       "    </tr>\n",
       "    <tr>\n",
       "      <th>8897</th>\n",
       "      <td>stupidly</td>\n",
       "      <td>-3.792250</td>\n",
       "    </tr>\n",
       "    <tr>\n",
       "      <th>8824</th>\n",
       "      <td>tidying</td>\n",
       "      <td>-3.498210</td>\n",
       "    </tr>\n",
       "    <tr>\n",
       "      <th>8539</th>\n",
       "      <td>round.</td>\n",
       "      <td>-3.359560</td>\n",
       "    </tr>\n",
       "    <tr>\n",
       "      <th>7838</th>\n",
       "      <td>gutted!</td>\n",
       "      <td>-3.198066</td>\n",
       "    </tr>\n",
       "    <tr>\n",
       "      <th>8753</th>\n",
       "      <td>internet,</td>\n",
       "      <td>-3.147051</td>\n",
       "    </tr>\n",
       "    <tr>\n",
       "      <th>2104</th>\n",
       "      <td>depressed</td>\n",
       "      <td>-2.975052</td>\n",
       "    </tr>\n",
       "    <tr>\n",
       "      <th>8084</th>\n",
       "      <td>unlucky</td>\n",
       "      <td>-2.971917</td>\n",
       "    </tr>\n",
       "    <tr>\n",
       "      <th>4772</th>\n",
       "      <td>noo</td>\n",
       "      <td>-2.943008</td>\n",
       "    </tr>\n",
       "    <tr>\n",
       "      <th>5549</th>\n",
       "      <td>news:</td>\n",
       "      <td>-2.762037</td>\n",
       "    </tr>\n",
       "  </tbody>\n",
       "</table>\n",
       "</div>"
      ],
      "text/plain": [
       "           word     score\n",
       "7868       grr. -4.248248\n",
       "8897   stupidly -3.792250\n",
       "8824    tidying -3.498210\n",
       "8539     round. -3.359560\n",
       "7838    gutted! -3.198066\n",
       "8753  internet, -3.147051\n",
       "2104  depressed -2.975052\n",
       "8084    unlucky -2.971917\n",
       "4772        noo -2.943008\n",
       "5549      news: -2.762037"
      ]
     },
     "metadata": {
      "tags": []
     },
     "output_type": "display_data"
    },
    {
     "data": {
      "text/html": [
       "<div>\n",
       "<style scoped>\n",
       "    .dataframe tbody tr th:only-of-type {\n",
       "        vertical-align: middle;\n",
       "    }\n",
       "\n",
       "    .dataframe tbody tr th {\n",
       "        vertical-align: top;\n",
       "    }\n",
       "\n",
       "    .dataframe thead th {\n",
       "        text-align: right;\n",
       "    }\n",
       "</style>\n",
       "<table border=\"1\" class=\"dataframe\">\n",
       "  <thead>\n",
       "    <tr style=\"text-align: right;\">\n",
       "      <th></th>\n",
       "      <th>word</th>\n",
       "      <th>score</th>\n",
       "    </tr>\n",
       "  </thead>\n",
       "  <tbody>\n",
       "    <tr>\n",
       "      <th>5268</th>\n",
       "      <td>thx!</td>\n",
       "      <td>3.886612</td>\n",
       "    </tr>\n",
       "    <tr>\n",
       "      <th>8749</th>\n",
       "      <td>andrew</td>\n",
       "      <td>3.775713</td>\n",
       "    </tr>\n",
       "    <tr>\n",
       "      <th>8870</th>\n",
       "      <td>tweeps,</td>\n",
       "      <td>3.590758</td>\n",
       "    </tr>\n",
       "    <tr>\n",
       "      <th>4180</th>\n",
       "      <td>here:</td>\n",
       "      <td>3.527108</td>\n",
       "    </tr>\n",
       "    <tr>\n",
       "      <th>8141</th>\n",
       "      <td>sane</td>\n",
       "      <td>2.959482</td>\n",
       "    </tr>\n",
       "    <tr>\n",
       "      <th>5785</th>\n",
       "      <td>smile.</td>\n",
       "      <td>2.812721</td>\n",
       "    </tr>\n",
       "    <tr>\n",
       "      <th>8827</th>\n",
       "      <td>stones</td>\n",
       "      <td>2.691826</td>\n",
       "    </tr>\n",
       "    <tr>\n",
       "      <th>2210</th>\n",
       "      <td>thankyou</td>\n",
       "      <td>2.667729</td>\n",
       "    </tr>\n",
       "    <tr>\n",
       "      <th>3005</th>\n",
       "      <td>tip</td>\n",
       "      <td>2.623902</td>\n",
       "    </tr>\n",
       "    <tr>\n",
       "      <th>5335</th>\n",
       "      <td>peaceful</td>\n",
       "      <td>2.606344</td>\n",
       "    </tr>\n",
       "  </tbody>\n",
       "</table>\n",
       "</div>"
      ],
      "text/plain": [
       "          word     score\n",
       "5268      thx!  3.886612\n",
       "8749    andrew  3.775713\n",
       "8870   tweeps,  3.590758\n",
       "4180     here:  3.527108\n",
       "8141      sane  2.959482\n",
       "5785    smile.  2.812721\n",
       "8827    stones  2.691826\n",
       "2210  thankyou  2.667729\n",
       "3005       tip  2.623902\n",
       "5335  peaceful  2.606344"
      ]
     },
     "metadata": {
      "tags": []
     },
     "output_type": "display_data"
    }
   ],
   "source": [
    "# grading cell - do not modify\n",
    "display(lr_pipe_df_neg)\n",
    "display(lr_pipe_df_pos)"
   ]
  },
  {
   "cell_type": "markdown",
   "metadata": {
    "id": "DwYVSy7ZxRGC"
   },
   "source": [
    "Your explanation here: \n",
    "\n",
    "Looking into both dataframes, I am seeing a lot of model noises from both dataframes. The data does not display positive or negative sentiment and this is due to model overfitting."
   ]
  },
  {
   "cell_type": "markdown",
   "metadata": {
    "id": "_pRQHjP1xRGD"
   },
   "source": [
    "# Question 6a: (5 pts)\n",
    "The goal of this question is to try to improve the score from question 4 using a regularization grid search on a new pipeline named `lr_pipe_1`. lr_pipe_1 is the same as lr_pipe above but we would like you to create a new pipe for grading purposes only.  I'm not sure if it's possible to increase the score or not.  You will be graded on level of effort to increase the score in relation to other students in the class.  All of your grid search code should be inside the `if enable_grid` statement in the cell below.  The enable_grid boolean is set to true in a grading cell above.  If any of the grid search code executes outside of the if statement, you will not get full credit for the question.  We want the ability to turn off the grid search during grading.<br>"
   ]
  },
  {
   "cell_type": "code",
   "execution_count": 24,
   "metadata": {
    "colab": {
     "base_uri": "https://localhost:8080/",
     "height": 34
    },
    "id": "fmZ_v8uFxRGD",
    "outputId": "d2ba1ef3-7122-4b93-a5e2-45cdb6c6c48b"
   },
   "outputs": [
    {
     "name": "stdout",
     "output_type": "stream",
     "text": [
      "AUC score from new cv model:0.745523\n"
     ]
    }
   ],
   "source": [
    "# your grid search (and only your grid search) code here\n",
    "from pyspark.ml.evaluation import BinaryClassificationEvaluator\n",
    "from pyspark.ml.tuning import CrossValidator, ParamGridBuilder\n",
    "\n",
    "lr_6a = LogisticRegression().\\\n",
    "        setLabelCol('target').\\\n",
    "        setFeaturesCol('tfidf').\\\n",
    "        setRegParam(0.0).\\\n",
    "        setMaxIter(100).\\\n",
    "        setElasticNetParam(0.)\n",
    "\n",
    "\n",
    "#lr_6a = LogisticRegression(labelCol = 'target',featuresCol='tfidf', maxIter=10, regParam=0.3, elasticNetParam=0.8)\n",
    "\n",
    "if enable_grid:\n",
    "    # your grid search code here\n",
    "    #paramGrid = ParamGridBuilder().build()\n",
    "    grid = ParamGridBuilder().\\\n",
    "    addGrid(lr_6a.regParam, [0., 0.01, 0.02]).\\\n",
    "    addGrid(lr_6a.elasticNetParam, [0., 0.2, 0.3]).\\\n",
    "    build()\n",
    "    \n",
    "    evaluator = BinaryClassificationEvaluator(labelCol='target', rawPredictionCol=\"prediction\")\n",
    "    lr_pipe_1 = Pipeline(stages=[tweets_pre_proc_pipe, lr_6a])\n",
    "    cv_6a = CrossValidator(estimator=lr_pipe_1, evaluator=evaluator, estimatorParamMaps=grid, numFolds=3)\n",
    "    model_6a =cv_6a.fit(training)\n",
    "    prediction_6a = model_6a.transform(test)\n",
    "    pass\n",
    "\n",
    "# new_pred = new_prediction.toPandas()\n",
    "# new_pred.head()\n",
    "\n",
    "print('AUC score from new cv model:{:4f}'.format(evaluator.evaluate(prediction_6a)))\n"
   ]
  },
  {
   "cell_type": "markdown",
   "metadata": {
    "id": "Gg7HSUGWxRGG"
   },
   "source": [
    "# Question 6b (5 pts)\n",
    "Build a new pipeline named `lr_pipe_2` which uses the optimized model parameters from the grid search in question 6a above (the best model).  Create 2 variables named alpha and lambda and assign to them the best alpha and lambda produced by the grid search by hard coding the values. Fit and transform lr_pipe_2.  Compare AUC scores between lr_pipe_2 with lr_pipe in question 4.  Create a pandas dataframe named `comapre_1_df` which encapsulates the comparison data.  comapre_1_df Shall have 2 columns: `model_name` and `auc_score`."
   ]
  },
  {
   "cell_type": "code",
   "execution_count": 25,
   "metadata": {
    "colab": {
     "base_uri": "https://localhost:8080/",
     "height": 187
    },
    "id": "ZKp6L0a6xRGG",
    "outputId": "2c83a43e-f1f3-404d-e400-7981847bb5ba"
   },
   "outputs": [
    {
     "name": "stdout",
     "output_type": "stream",
     "text": [
      "Fitting model 1\n",
      "Fitting model 2\n",
      "Fitting model 3\n",
      "Fitting model 4\n",
      "Fitting model 5\n",
      "Fitting model 6\n",
      "Fitting model 7\n",
      "Fitting model 8\n",
      "Fitting model 9\n",
      "best model index = 4\n"
     ]
    }
   ],
   "source": [
    "# your optimized model code here\n",
    "import numpy as np\n",
    "\n",
    "all_models = []\n",
    "for j in range(len(grid)):\n",
    "    print(\"Fitting model {}\".format(j+1))\n",
    "    model = lr_pipe_1.fit(training, grid[j])\n",
    "    all_models.append(model)\n",
    "\n",
    "accuracies = [m.\\\n",
    "    transform(validation).\\\n",
    "    select(fn.avg(fn.expr('float(target = prediction)')).alias('accuracy')).\\\n",
    "    first().\\\n",
    "    accuracy for m in all_models]\n",
    "\n",
    "best_model_idx = np.argmax(accuracies)\n",
    "print(\"best model index =\", best_model_idx)"
   ]
  },
  {
   "cell_type": "code",
   "execution_count": 26,
   "metadata": {
    "colab": {
     "base_uri": "https://localhost:8080/",
     "height": 71
    },
    "id": "A_1g3YZMxRGI",
    "outputId": "befff5b4-e2d7-4b1b-f10c-c54d2620413e"
   },
   "outputs": [
    {
     "data": {
      "text/plain": [
       "{Param(parent='LogisticRegression_efa156157426', name='elasticNetParam', doc='the ElasticNet mixing parameter, in range [0, 1]. For alpha = 0, the penalty is an L2 penalty. For alpha = 1, it is an L1 penalty.'): 0.2,\n",
       " Param(parent='LogisticRegression_efa156157426', name='regParam', doc='regularization parameter (>= 0).'): 0.01}"
      ]
     },
     "execution_count": 26,
     "metadata": {
      "tags": []
     },
     "output_type": "execute_result"
    }
   ],
   "source": [
    "grid[best_model_idx]"
   ]
  },
  {
   "cell_type": "code",
   "execution_count": 27,
   "metadata": {
    "colab": {
     "base_uri": "https://localhost:8080/",
     "height": 128
    },
    "id": "pi1BvfKqxRGK",
    "outputId": "3dd8a2ae-fac5-46e5-d30d-97959bb4451c"
   },
   "outputs": [
    {
     "name": "stdout",
     "output_type": "stream",
     "text": [
      "AUC score from new cv model:0.745523\n"
     ]
    },
    {
     "data": {
      "text/html": [
       "<div>\n",
       "<style scoped>\n",
       "    .dataframe tbody tr th:only-of-type {\n",
       "        vertical-align: middle;\n",
       "    }\n",
       "\n",
       "    .dataframe tbody tr th {\n",
       "        vertical-align: top;\n",
       "    }\n",
       "\n",
       "    .dataframe thead th {\n",
       "        text-align: right;\n",
       "    }\n",
       "</style>\n",
       "<table border=\"1\" class=\"dataframe\">\n",
       "  <thead>\n",
       "    <tr style=\"text-align: right;\">\n",
       "      <th></th>\n",
       "      <th>model_name</th>\n",
       "      <th>auc_score</th>\n",
       "    </tr>\n",
       "  </thead>\n",
       "  <tbody>\n",
       "    <tr>\n",
       "      <th>0</th>\n",
       "      <td>lr_pipe</td>\n",
       "      <td>0.720101</td>\n",
       "    </tr>\n",
       "    <tr>\n",
       "      <th>1</th>\n",
       "      <td>lr_pipe_2</td>\n",
       "      <td>0.745523</td>\n",
       "    </tr>\n",
       "  </tbody>\n",
       "</table>\n",
       "</div>"
      ],
      "text/plain": [
       "  model_name  auc_score\n",
       "0    lr_pipe   0.720101\n",
       "1  lr_pipe_2   0.745523"
      ]
     },
     "execution_count": 27,
     "metadata": {
      "tags": []
     },
     "output_type": "execute_result"
    }
   ],
   "source": [
    "# example\n",
    "# alpha = 0.1\n",
    "# lambda = 0.1\n",
    "\n",
    "# The following lambda and alpha parameter comes from the interpretation of printed output from grid[best_model_idx]\n",
    "lambda_par = 0.01\n",
    "alpha_par = 0.2\n",
    "lr_6b = LogisticRegression().\\\n",
    "        setLabelCol('target').\\\n",
    "        setFeaturesCol('tfidf').\\\n",
    "        setRegParam(lambda_par).\\\n",
    "        setMaxIter(100).\\\n",
    "        setElasticNetParam(alpha_par)\n",
    "\n",
    "\n",
    "# lr_pipe_2 code here\n",
    "#paramGrid = ParamGridBuilder().build()\n",
    "lr_pipe_2 = Pipeline(stages=[tweets_pre_proc_pipe, lr_6b])\n",
    "evaluator = BinaryClassificationEvaluator(labelCol='target', rawPredictionCol=\"prediction\")\n",
    "model_6b =lr_pipe_2.fit(training)\n",
    "prediction_6b = model_6b.transform(test)\n",
    "\n",
    "print('AUC score from new cv model:{:4f}'.format(evaluator.evaluate(prediction_6b)))\n",
    "\n",
    "model_name = ['lr_pipe', 'lr_pipe_2']\n",
    "auc_score = [evaluator.evaluate(prediction), evaluator.evaluate(prediction_6b)]\n",
    "\n",
    "comapre_1_df = pd.DataFrame({'model_name': model_name, 'auc_score': auc_score})\n",
    "comapre_1_df.head()"
   ]
  },
  {
   "cell_type": "code",
   "execution_count": 28,
   "metadata": {
    "colab": {
     "base_uri": "https://localhost:8080/",
     "height": 111
    },
    "id": "3cDJ4rthxRGM",
    "outputId": "b204f286-cbb8-488d-abff-646ae9d63c03"
   },
   "outputs": [
    {
     "data": {
      "text/html": [
       "<div>\n",
       "<style scoped>\n",
       "    .dataframe tbody tr th:only-of-type {\n",
       "        vertical-align: middle;\n",
       "    }\n",
       "\n",
       "    .dataframe tbody tr th {\n",
       "        vertical-align: top;\n",
       "    }\n",
       "\n",
       "    .dataframe thead th {\n",
       "        text-align: right;\n",
       "    }\n",
       "</style>\n",
       "<table border=\"1\" class=\"dataframe\">\n",
       "  <thead>\n",
       "    <tr style=\"text-align: right;\">\n",
       "      <th></th>\n",
       "      <th>model_name</th>\n",
       "      <th>auc_score</th>\n",
       "    </tr>\n",
       "  </thead>\n",
       "  <tbody>\n",
       "    <tr>\n",
       "      <th>0</th>\n",
       "      <td>lr_pipe</td>\n",
       "      <td>0.720101</td>\n",
       "    </tr>\n",
       "    <tr>\n",
       "      <th>1</th>\n",
       "      <td>lr_pipe_2</td>\n",
       "      <td>0.745523</td>\n",
       "    </tr>\n",
       "  </tbody>\n",
       "</table>\n",
       "</div>"
      ],
      "text/plain": [
       "  model_name  auc_score\n",
       "0    lr_pipe   0.720101\n",
       "1  lr_pipe_2   0.745523"
      ]
     },
     "metadata": {
      "tags": []
     },
     "output_type": "display_data"
    }
   ],
   "source": [
    "# grading cell - do not modify\n",
    "display(comapre_1_df)"
   ]
  },
  {
   "cell_type": "markdown",
   "metadata": {
    "id": "qxRn2bSVxRGP"
   },
   "source": [
    "# Question 7 (10 pts)\n",
    "Perform inference on lr_pipe_2.  Write code to report how many words were eliminated from the best model in question 6b above (if any) as compared to the model in question 4 above.  Make sure your output is easy for the graders to find and interpret."
   ]
  },
  {
   "cell_type": "code",
   "execution_count": 29,
   "metadata": {
    "colab": {
     "base_uri": "https://localhost:8080/",
     "height": 85
    },
    "id": "fFbI2EhzxRGP",
    "outputId": "61514207-5912-44dc-cbf6-00b99266d6c0"
   },
   "outputs": [
    {
     "name": "stdout",
     "output_type": "stream",
     "text": [
      "length of previous word: 9240\n",
      "length of updated word: 9240\n",
      "\n",
      " After comparsion, we can infer that no word has been deleted during the process of model optimization.\n"
     ]
    }
   ],
   "source": [
    "# your code here\n",
    "\n",
    "import pandas as pd\n",
    "\n",
    "# Question 4 Original Model: Words & Weights\n",
    "word = lr_model.stages[0].stages[-2].vocabulary\n",
    "weights = lr_model.stages[-1].coefficients.toArray()\n",
    "\n",
    "# Question 7 Updated Model: Words & Weights\n",
    "word_6b = model_6b.stages[0].stages[-2].vocabulary\n",
    "weights_6b = model_6b.stages[-1].coefficients.toArray()\n",
    "print('length of previous word:', len(word))\n",
    "print('length of updated word:', len(word_6b))\n",
    "#print('length of updated weights:', len(weights_6b))\n",
    "print('\\n After comparsion, we can infer that no word has been deleted during the process of model optimization.')"
   ]
  },
  {
   "cell_type": "markdown",
   "metadata": {
    "id": "xr4Wj-jJxRGT"
   },
   "source": [
    "# Question 8 (10 pts)\n",
    "Perform the same inference analysis that you did in question 5 but name the data frames `lr_pipe_df_neg_1` and `lr_pipe_df_pos_1`.  Compare the word importance results with the results in question 5."
   ]
  },
  {
   "cell_type": "code",
   "execution_count": 30,
   "metadata": {
    "colab": {
     "base_uri": "https://localhost:8080/",
     "height": 701
    },
    "id": "9Se-INlixRGT",
    "outputId": "c769dc37-0c7c-4c09-88ce-1765ad720fff"
   },
   "outputs": [
    {
     "data": {
      "text/html": [
       "<div>\n",
       "<style scoped>\n",
       "    .dataframe tbody tr th:only-of-type {\n",
       "        vertical-align: middle;\n",
       "    }\n",
       "\n",
       "    .dataframe tbody tr th {\n",
       "        vertical-align: top;\n",
       "    }\n",
       "\n",
       "    .dataframe thead th {\n",
       "        text-align: right;\n",
       "    }\n",
       "</style>\n",
       "<table border=\"1\" class=\"dataframe\">\n",
       "  <thead>\n",
       "    <tr style=\"text-align: right;\">\n",
       "      <th></th>\n",
       "      <th>word</th>\n",
       "      <th>score</th>\n",
       "    </tr>\n",
       "  </thead>\n",
       "  <tbody>\n",
       "    <tr>\n",
       "      <th>54</th>\n",
       "      <td>sad</td>\n",
       "      <td>-0.504700</td>\n",
       "    </tr>\n",
       "    <tr>\n",
       "      <th>182</th>\n",
       "      <td>poor</td>\n",
       "      <td>-0.355732</td>\n",
       "    </tr>\n",
       "    <tr>\n",
       "      <th>35</th>\n",
       "      <td>miss</td>\n",
       "      <td>-0.354379</td>\n",
       "    </tr>\n",
       "    <tr>\n",
       "      <th>37</th>\n",
       "      <td>wish</td>\n",
       "      <td>-0.350512</td>\n",
       "    </tr>\n",
       "    <tr>\n",
       "      <th>162</th>\n",
       "      <td>missing</td>\n",
       "      <td>-0.346022</td>\n",
       "    </tr>\n",
       "    <tr>\n",
       "      <th>302</th>\n",
       "      <td>hurts</td>\n",
       "      <td>-0.342330</td>\n",
       "    </tr>\n",
       "    <tr>\n",
       "      <th>94</th>\n",
       "      <td>sick</td>\n",
       "      <td>-0.340919</td>\n",
       "    </tr>\n",
       "    <tr>\n",
       "      <th>249</th>\n",
       "      <td>sucks</td>\n",
       "      <td>-0.336293</td>\n",
       "    </tr>\n",
       "    <tr>\n",
       "      <th>592</th>\n",
       "      <td>lonely</td>\n",
       "      <td>-0.321246</td>\n",
       "    </tr>\n",
       "    <tr>\n",
       "      <th>582</th>\n",
       "      <td>sad.</td>\n",
       "      <td>-0.314775</td>\n",
       "    </tr>\n",
       "  </tbody>\n",
       "</table>\n",
       "</div>"
      ],
      "text/plain": [
       "        word     score\n",
       "54       sad -0.504700\n",
       "182     poor -0.355732\n",
       "35      miss -0.354379\n",
       "37      wish -0.350512\n",
       "162  missing -0.346022\n",
       "302    hurts -0.342330\n",
       "94      sick -0.340919\n",
       "249    sucks -0.336293\n",
       "592   lonely -0.321246\n",
       "582     sad. -0.314775"
      ]
     },
     "metadata": {
      "tags": []
     },
     "output_type": "display_data"
    },
    {
     "data": {
      "text/html": [
       "<div>\n",
       "<style scoped>\n",
       "    .dataframe tbody tr th:only-of-type {\n",
       "        vertical-align: middle;\n",
       "    }\n",
       "\n",
       "    .dataframe tbody tr th {\n",
       "        vertical-align: top;\n",
       "    }\n",
       "\n",
       "    .dataframe thead th {\n",
       "        text-align: right;\n",
       "    }\n",
       "</style>\n",
       "<table border=\"1\" class=\"dataframe\">\n",
       "  <thead>\n",
       "    <tr style=\"text-align: right;\">\n",
       "      <th></th>\n",
       "      <th>word</th>\n",
       "      <th>score</th>\n",
       "    </tr>\n",
       "  </thead>\n",
       "  <tbody>\n",
       "    <tr>\n",
       "      <th>29</th>\n",
       "      <td>thanks</td>\n",
       "      <td>0.328314</td>\n",
       "    </tr>\n",
       "    <tr>\n",
       "      <th>70</th>\n",
       "      <td>thank</td>\n",
       "      <td>0.305772</td>\n",
       "    </tr>\n",
       "    <tr>\n",
       "      <th>224</th>\n",
       "      <td>welcome</td>\n",
       "      <td>0.301187</td>\n",
       "    </tr>\n",
       "    <tr>\n",
       "      <th>5039</th>\n",
       "      <td>peaceful</td>\n",
       "      <td>0.258743</td>\n",
       "    </tr>\n",
       "    <tr>\n",
       "      <th>3</th>\n",
       "      <td>good</td>\n",
       "      <td>0.250217</td>\n",
       "    </tr>\n",
       "    <tr>\n",
       "      <th>1045</th>\n",
       "      <td>proud</td>\n",
       "      <td>0.240826</td>\n",
       "    </tr>\n",
       "    <tr>\n",
       "      <th>46</th>\n",
       "      <td>happy</td>\n",
       "      <td>0.239985</td>\n",
       "    </tr>\n",
       "    <tr>\n",
       "      <th>1587</th>\n",
       "      <td>blessed</td>\n",
       "      <td>0.239330</td>\n",
       "    </tr>\n",
       "    <tr>\n",
       "      <th>4016</th>\n",
       "      <td>post.</td>\n",
       "      <td>0.237532</td>\n",
       "    </tr>\n",
       "    <tr>\n",
       "      <th>111</th>\n",
       "      <td>glad</td>\n",
       "      <td>0.227573</td>\n",
       "    </tr>\n",
       "  </tbody>\n",
       "</table>\n",
       "</div>"
      ],
      "text/plain": [
       "          word     score\n",
       "29      thanks  0.328314\n",
       "70       thank  0.305772\n",
       "224    welcome  0.301187\n",
       "5039  peaceful  0.258743\n",
       "3         good  0.250217\n",
       "1045     proud  0.240826\n",
       "46       happy  0.239985\n",
       "1587   blessed  0.239330\n",
       "4016     post.  0.237532\n",
       "111       glad  0.227573"
      ]
     },
     "metadata": {
      "tags": []
     },
     "output_type": "display_data"
    }
   ],
   "source": [
    "# your code here\n",
    "word_weights_df_1 = pd.DataFrame({'word': word_6b, 'score': weights_6b})\n",
    "word_weights_df_1.head()\n",
    "\n",
    "lr_pipe_df_neg_1 = word_weights_df_1.sort_values('score').head(10)\n",
    "lr_pipe_df_pos_1 = word_weights_df_1.sort_values('score', ascending=False).head(10)\n",
    "\n",
    "display(lr_pipe_df_neg_1)\n",
    "display(lr_pipe_df_pos_1)"
   ]
  },
  {
   "cell_type": "code",
   "execution_count": 31,
   "metadata": {
    "colab": {
     "base_uri": "https://localhost:8080/",
     "height": 701
    },
    "id": "NiMr0gczxRGV",
    "outputId": "131eaf24-9fd9-4ed8-a1af-8c4c42be6ff6"
   },
   "outputs": [
    {
     "data": {
      "text/html": [
       "<div>\n",
       "<style scoped>\n",
       "    .dataframe tbody tr th:only-of-type {\n",
       "        vertical-align: middle;\n",
       "    }\n",
       "\n",
       "    .dataframe tbody tr th {\n",
       "        vertical-align: top;\n",
       "    }\n",
       "\n",
       "    .dataframe thead th {\n",
       "        text-align: right;\n",
       "    }\n",
       "</style>\n",
       "<table border=\"1\" class=\"dataframe\">\n",
       "  <thead>\n",
       "    <tr style=\"text-align: right;\">\n",
       "      <th></th>\n",
       "      <th>word</th>\n",
       "      <th>score</th>\n",
       "    </tr>\n",
       "  </thead>\n",
       "  <tbody>\n",
       "    <tr>\n",
       "      <th>54</th>\n",
       "      <td>sad</td>\n",
       "      <td>-0.504700</td>\n",
       "    </tr>\n",
       "    <tr>\n",
       "      <th>182</th>\n",
       "      <td>poor</td>\n",
       "      <td>-0.355732</td>\n",
       "    </tr>\n",
       "    <tr>\n",
       "      <th>35</th>\n",
       "      <td>miss</td>\n",
       "      <td>-0.354379</td>\n",
       "    </tr>\n",
       "    <tr>\n",
       "      <th>37</th>\n",
       "      <td>wish</td>\n",
       "      <td>-0.350512</td>\n",
       "    </tr>\n",
       "    <tr>\n",
       "      <th>162</th>\n",
       "      <td>missing</td>\n",
       "      <td>-0.346022</td>\n",
       "    </tr>\n",
       "    <tr>\n",
       "      <th>302</th>\n",
       "      <td>hurts</td>\n",
       "      <td>-0.342330</td>\n",
       "    </tr>\n",
       "    <tr>\n",
       "      <th>94</th>\n",
       "      <td>sick</td>\n",
       "      <td>-0.340919</td>\n",
       "    </tr>\n",
       "    <tr>\n",
       "      <th>249</th>\n",
       "      <td>sucks</td>\n",
       "      <td>-0.336293</td>\n",
       "    </tr>\n",
       "    <tr>\n",
       "      <th>592</th>\n",
       "      <td>lonely</td>\n",
       "      <td>-0.321246</td>\n",
       "    </tr>\n",
       "    <tr>\n",
       "      <th>582</th>\n",
       "      <td>sad.</td>\n",
       "      <td>-0.314775</td>\n",
       "    </tr>\n",
       "  </tbody>\n",
       "</table>\n",
       "</div>"
      ],
      "text/plain": [
       "        word     score\n",
       "54       sad -0.504700\n",
       "182     poor -0.355732\n",
       "35      miss -0.354379\n",
       "37      wish -0.350512\n",
       "162  missing -0.346022\n",
       "302    hurts -0.342330\n",
       "94      sick -0.340919\n",
       "249    sucks -0.336293\n",
       "592   lonely -0.321246\n",
       "582     sad. -0.314775"
      ]
     },
     "metadata": {
      "tags": []
     },
     "output_type": "display_data"
    },
    {
     "data": {
      "text/html": [
       "<div>\n",
       "<style scoped>\n",
       "    .dataframe tbody tr th:only-of-type {\n",
       "        vertical-align: middle;\n",
       "    }\n",
       "\n",
       "    .dataframe tbody tr th {\n",
       "        vertical-align: top;\n",
       "    }\n",
       "\n",
       "    .dataframe thead th {\n",
       "        text-align: right;\n",
       "    }\n",
       "</style>\n",
       "<table border=\"1\" class=\"dataframe\">\n",
       "  <thead>\n",
       "    <tr style=\"text-align: right;\">\n",
       "      <th></th>\n",
       "      <th>word</th>\n",
       "      <th>score</th>\n",
       "    </tr>\n",
       "  </thead>\n",
       "  <tbody>\n",
       "    <tr>\n",
       "      <th>29</th>\n",
       "      <td>thanks</td>\n",
       "      <td>0.328314</td>\n",
       "    </tr>\n",
       "    <tr>\n",
       "      <th>70</th>\n",
       "      <td>thank</td>\n",
       "      <td>0.305772</td>\n",
       "    </tr>\n",
       "    <tr>\n",
       "      <th>224</th>\n",
       "      <td>welcome</td>\n",
       "      <td>0.301187</td>\n",
       "    </tr>\n",
       "    <tr>\n",
       "      <th>5039</th>\n",
       "      <td>peaceful</td>\n",
       "      <td>0.258743</td>\n",
       "    </tr>\n",
       "    <tr>\n",
       "      <th>3</th>\n",
       "      <td>good</td>\n",
       "      <td>0.250217</td>\n",
       "    </tr>\n",
       "    <tr>\n",
       "      <th>1045</th>\n",
       "      <td>proud</td>\n",
       "      <td>0.240826</td>\n",
       "    </tr>\n",
       "    <tr>\n",
       "      <th>46</th>\n",
       "      <td>happy</td>\n",
       "      <td>0.239985</td>\n",
       "    </tr>\n",
       "    <tr>\n",
       "      <th>1587</th>\n",
       "      <td>blessed</td>\n",
       "      <td>0.239330</td>\n",
       "    </tr>\n",
       "    <tr>\n",
       "      <th>4016</th>\n",
       "      <td>post.</td>\n",
       "      <td>0.237532</td>\n",
       "    </tr>\n",
       "    <tr>\n",
       "      <th>111</th>\n",
       "      <td>glad</td>\n",
       "      <td>0.227573</td>\n",
       "    </tr>\n",
       "  </tbody>\n",
       "</table>\n",
       "</div>"
      ],
      "text/plain": [
       "          word     score\n",
       "29      thanks  0.328314\n",
       "70       thank  0.305772\n",
       "224    welcome  0.301187\n",
       "5039  peaceful  0.258743\n",
       "3         good  0.250217\n",
       "1045     proud  0.240826\n",
       "46       happy  0.239985\n",
       "1587   blessed  0.239330\n",
       "4016     post.  0.237532\n",
       "111       glad  0.227573"
      ]
     },
     "metadata": {
      "tags": []
     },
     "output_type": "display_data"
    }
   ],
   "source": [
    "# grading cell - do not modify\n",
    "display(lr_pipe_df_neg_1)\n",
    "display(lr_pipe_df_pos_1)"
   ]
  },
  {
   "cell_type": "markdown",
   "metadata": {
    "id": "Lhr8gCv3xRGX"
   },
   "source": [
    "##### Grading Feedback Cell"
   ]
  },
  {
   "cell_type": "markdown",
   "metadata": {
    "id": "ZOm1OQUyxRGY"
   },
   "source": [
    "Your explanation here:\n",
    "    \n",
    "The result I obtained from question 8 peforms better than that from question 5. \n",
    "As we examined both dataframes that showcase most negative and most positive words,\n",
    "negative words such as \"sad\", \"poor\" and \"sadly\" etc. reflect negative sentiment with mitigated level of noises.\n",
    "This is the same for the words from positive sentiment dataframe.\n",
    "Another notable difference is that the weights for each word is significantly small,\n",
    "and this could come from a combination of cross validation model and regularization net."
   ]
  },
  {
   "cell_type": "markdown",
   "metadata": {
    "id": "JwgTgK2yxRGY"
   },
   "source": [
    "# Question 9 (10 pts)\n",
    "Create a receiver operating characteristic (ROC) plot for the best model in question 6.  Briefly describe in words the high level steps needed to build a ROC curve as outlined in lecture.  Convince me you understand the high level steps needed to make a ROC curve."
   ]
  },
  {
   "cell_type": "code",
   "execution_count": 32,
   "metadata": {
    "colab": {
     "base_uri": "https://localhost:8080/",
     "height": 350
    },
    "id": "b1jxQaBtxRGZ",
    "outputId": "0d2be77f-5a6f-42b5-dc5c-1116076b5a98"
   },
   "outputs": [
    {
     "data": {
      "image/png": "[encoded data removed]",
      "text/plain": [
       "<Figure size 360x360 with 1 Axes>"
      ]
     },
     "metadata": {
      "needs_background": "light",
      "tags": []
     },
     "output_type": "display_data"
    }
   ],
   "source": [
    "import matplotlib.pyplot as plt\n",
    "import numpy as np\n",
    "%matplotlib inline\n",
    "\n",
    "plt.figure(figsize=(5,5))\n",
    "plt.plot([0, 1], [0, 1], 'r--', label = 'No Skill')\n",
    "number = model_6b.stages[-1].summary.roc.toPandas()\n",
    "FPR,TPR = number['FPR'],number['TPR']\n",
    "\n",
    "plt.plot(FPR, TPR, label='Logistic Regression')\n",
    "plt.title('Receiver Operating Characteristic (ROC)')\n",
    "plt.xlabel('FPR')\n",
    "plt.ylabel('TPR')\n",
    "plt.legend()\n",
    "plt.show()"
   ]
  },
  {
   "cell_type": "markdown",
   "metadata": {
    "id": "1Kh48BxW2_3o"
   },
   "source": [
    "Your explanation here:\n",
    "\n",
    "The reason why we are using ROC curve to assess our model is because logistic regression is a binary classification model\n",
    "and ROC curve is a suitable evaluation metric to use in this situation. We utilized this curve to assess how well our model \n",
    "predicts the positive/negative sentiment of a tweet. In order to plot a ROC curve, we need to obtain TPR (True Positive Rate)\n",
    "against FPR (False Positive Rate). The area under the curve (blue line) showcases the regression model's prediction ability. \n",
    "The greater the AUC value, the better the model's predicting ability is. \n",
    "When AUC is 0.5 (the red line in graph), this means that model has no class separation capacity.\n",
    "\n",
    "For the FPR value, we can obtain it from (FP/(FP+FN)) and these values can be found in confusion matrix. This means, out of all negative values, \n",
    "FPR represent the percentage of predicting the wrong negative value. For the TPR value, we can obtain it from (TP/(TP+FN)). \n",
    "Out of all positive values, this metric showcases the percentage of correctly predicting the values as positive.\n",
    "\n",
    "Smaller values on the x-axis of the plot indicate lower false positives and higher true negatives. Larger values on the y-axis of the plot indicate higher true positives and lower false negatives.\n",
    "For my ROC curve, the curve shows that my logistic regression did a good job at assign a higher probability to a randomly chosen real positive occurrence than a negative occurrence on average."
   ]
  },
  {
   "cell_type": "markdown",
   "metadata": {
    "id": "LvoThpnbxRGd"
   },
   "source": [
    "# Question 10 (10 pts)\n",
    "Learn about [precision/recall](https://en.wikipedia.org/wiki/Precision_and_recall) curves. Using the logistic regression summary object contained in the linear regression object within lr_pipe_2, create a precision recall plot. Similar to the `roc` object which is available in the logistic regression summary, there is a `pr` object which can be used to help create a precision / recall curve.  Note that the precision recall curve is built using the same high level methodology as the ROC curve, but using different metrics calculated from the confusion matrix.  If you understand how a ROC curve is built, you understand how a precision / recall curve is built.  Compare and contrast the differences between precision / recall and ROC curves.  What axis is common and what axis is different between the 2 curves?"
   ]
  },
  {
   "cell_type": "code",
   "execution_count": 33,
   "metadata": {
    "colab": {
     "base_uri": "https://localhost:8080/",
     "height": 295
    },
    "id": "c42ti-CTxRGe",
    "outputId": "b9c0e9b9-35cb-49f4-9b0d-c356df021e5c"
   },
   "outputs": [
    {
     "data": {
      "image/png": "[encoded data removed]",
      "text/plain": [
       "<Figure size 432x288 with 1 Axes>"
      ]
     },
     "metadata": {
      "needs_background": "light",
      "tags": []
     },
     "output_type": "display_data"
    }
   ],
   "source": [
    "# your code here\n",
    "import matplotlib.pyplot as plt\n",
    "import numpy as np\n",
    "%matplotlib inline\n",
    "\n",
    "# plt.figure(figsize=(5,5))\n",
    "# plt.plot([0, 1], [0, 1], 'r--')\n",
    "number = model_6b.stages[-1].summary.pr.toPandas()\n",
    "number.head()\n",
    "recall,precision = number['recall'],number['precision']\n",
    "\n",
    "plt.plot(recall, precision, label='Logistic Regression')\n",
    "plt.plot([0, 1], [0.5, 0.5], linestyle='--', label='No Skill')\n",
    "plt.title('Precision/Recall curves')\n",
    "plt.xlabel('Recall')\n",
    "plt.ylabel('Precision')\n",
    "plt.legend()\n",
    "plt.show()"
   ]
  },
  {
   "cell_type": "markdown",
   "metadata": {
    "id": "tuN7ulDA26M-"
   },
   "source": [
    "Your explanation here:\n",
    "\n",
    "A precision-recall curve is a plot of the precision (y-axis) and the recall (x-axis) for different thresholds and it\n",
    "is another evaluation metric we used to assess the performance of the binary classification models. \n",
    "Precision is the ratio of the true positive divided by the sum of true positive and false negative values. \n",
    "Precision shows how good a model predict positive class. Recall is also called sensitivity. \n",
    "It is the ratio of the true positives divided by the sum of true positives and false negatives.\n",
    "\n",
    "We more often observe precision-recall curve than ROC curve when there is an inbalanced dataset being used as input data. \n",
    "While the baseline is fixed with ROC, the baseline of [precision-recall curve] is determined by the ratio \n",
    "of positives and negatives as y = P / (P + N).\n",
    "\n",
    "To answer the question from question 10, \n",
    "the recall axis (x-axis) from precision/recall curve is the same as the TPR axis (y-axis) from the ROC curve.\n",
    "\n",
    "However, the FPR axis is different from the precision axis because precision axis focus on the model's ability to \n",
    "correctly predict positive cases.\n",
    "\n",
    "TPR = TP/(TP+FN)\n",
    "FPR = FP/(FP+FN)\n",
    "precision = TP/ (TP + FP)\n",
    "recall = TP/(TP + FN)"
   ]
  }
 ],
 "metadata": {
  "colab": {
   "collapsed_sections": [],
   "name": "IST-718 Fall 2020 Homework 4.ipynb",
   "provenance": [],
   "toc_visible": true
  },
  "kernelspec": {
   "display_name": "Python 3",
   "language": "python",
   "name": "python3"
  },
  "language_info": {
   "codemirror_mode": {
    "name": "ipython",
    "version": 3
   },
   "file_extension": ".py",
   "mimetype": "text/x-python",
   "name": "python",
   "nbconvert_exporter": "python",
   "pygments_lexer": "ipython3",
   "version": "3.7.1"
  }
 },
 "nbformat": 4,
 "nbformat_minor": 1
}
